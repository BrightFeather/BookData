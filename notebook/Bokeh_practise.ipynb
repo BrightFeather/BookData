{
 "cells": [
  {
   "cell_type": "code",
   "execution_count": 2,
   "metadata": {
    "collapsed": false
   },
   "outputs": [
    {
     "name": "stdout",
     "output_type": "stream",
     "text": [
      "/bin/sh: 1: bokeh.__version__: not found\r\n"
     ]
    }
   ],
   "source": [
    "!bokeh.__version__"
   ]
  },
  {
   "cell_type": "code",
   "execution_count": 3,
   "metadata": {
    "collapsed": true
   },
   "outputs": [],
   "source": [
    "from bokeh.plotting import figure, output_notebook, show"
   ]
  },
  {
   "cell_type": "code",
   "execution_count": 4,
   "metadata": {
    "collapsed": false
   },
   "outputs": [
    {
     "data": {
      "text/html": [
       "\n",
       "    <div class=\"bk-banner\">\n",
       "        <a href=\"http://bokeh.pydata.org\" target=\"_blank\" class=\"bk-logo bk-logo-small bk-logo-notebook\"></a>\n",
       "        <span id=\"1b5e6de3-8d40-456d-9963-66b75c017fd2\">Loading BokehJS ...</span>\n",
       "    </div>"
      ]
     },
     "metadata": {},
     "output_type": "display_data"
    },
    {
     "data": {
      "application/javascript": [
       "\n",
       "(function(global) {\n",
       "  function now() {\n",
       "    return new Date();\n",
       "  }\n",
       "\n",
       "  if (typeof (window._bokeh_onload_callbacks) === \"undefined\") {\n",
       "    window._bokeh_onload_callbacks = [];\n",
       "  }\n",
       "\n",
       "  function run_callbacks() {\n",
       "    window._bokeh_onload_callbacks.forEach(function(callback) { callback() });\n",
       "    delete window._bokeh_onload_callbacks\n",
       "    console.info(\"Bokeh: all callbacks have finished\");\n",
       "  }\n",
       "\n",
       "  function load_libs(js_urls, callback) {\n",
       "    window._bokeh_onload_callbacks.push(callback);\n",
       "    if (window._bokeh_is_loading > 0) {\n",
       "      console.log(\"Bokeh: BokehJS is being loaded, scheduling callback at\", now());\n",
       "      return null;\n",
       "    }\n",
       "    if (js_urls == null || js_urls.length === 0) {\n",
       "      run_callbacks();\n",
       "      return null;\n",
       "    }\n",
       "    console.log(\"Bokeh: BokehJS not loaded, scheduling load and callback at\", now());\n",
       "    window._bokeh_is_loading = js_urls.length;\n",
       "    for (var i = 0; i < js_urls.length; i++) {\n",
       "      var url = js_urls[i];\n",
       "      var s = document.createElement('script');\n",
       "      s.src = url;\n",
       "      s.async = false;\n",
       "      s.onreadystatechange = s.onload = function() {\n",
       "        window._bokeh_is_loading--;\n",
       "        if (window._bokeh_is_loading === 0) {\n",
       "          console.log(\"Bokeh: all BokehJS libraries loaded\");\n",
       "          run_callbacks()\n",
       "        }\n",
       "      };\n",
       "      s.onerror = function() {\n",
       "        console.warn(\"failed to load library \" + url);\n",
       "      };\n",
       "      console.log(\"Bokeh: injecting script tag for BokehJS library: \", url);\n",
       "      document.getElementsByTagName(\"head\")[0].appendChild(s);\n",
       "    }\n",
       "  };\n",
       "\n",
       "  var js_urls = ['https://cdn.pydata.org/bokeh/release/bokeh-0.11.1.min.js', 'https://cdn.pydata.org/bokeh/release/bokeh-widgets-0.11.1.min.js', 'https://cdn.pydata.org/bokeh/release/bokeh-compiler-0.11.1.min.js'];\n",
       "\n",
       "  var inline_js = [\n",
       "    function(Bokeh) {\n",
       "      Bokeh.set_log_level(\"info\");\n",
       "    },\n",
       "    \n",
       "    function(Bokeh) {\n",
       "      Bokeh.$(\"#1b5e6de3-8d40-456d-9963-66b75c017fd2\").text(\"BokehJS successfully loaded\");\n",
       "    },\n",
       "    function(Bokeh) {\n",
       "      console.log(\"Bokeh: injecting CSS: https://cdn.pydata.org/bokeh/release/bokeh-0.11.1.min.css\");\n",
       "      Bokeh.embed.inject_css(\"https://cdn.pydata.org/bokeh/release/bokeh-0.11.1.min.css\");\n",
       "      console.log(\"Bokeh: injecting CSS: https://cdn.pydata.org/bokeh/release/bokeh-widgets-0.11.1.min.css\");\n",
       "      Bokeh.embed.inject_css(\"https://cdn.pydata.org/bokeh/release/bokeh-widgets-0.11.1.min.css\");\n",
       "    }\n",
       "  ];\n",
       "\n",
       "  function run_inline_js() {\n",
       "    for (var i = 0; i < inline_js.length; i++) {\n",
       "      inline_js[i](window.Bokeh);\n",
       "    }\n",
       "  }\n",
       "\n",
       "  if (window._bokeh_is_loading === 0) {\n",
       "    console.log(\"Bokeh: BokehJS loaded, going straight to plotting\");\n",
       "    run_inline_js();\n",
       "  } else {\n",
       "    load_libs(js_urls, function() {\n",
       "      console.log(\"Bokeh: BokehJS plotting callback run at\", now());\n",
       "      run_inline_js();\n",
       "    });\n",
       "  }\n",
       "}(this));"
      ]
     },
     "metadata": {},
     "output_type": "display_data"
    }
   ],
   "source": [
    "output_notebook()"
   ]
  },
  {
   "cell_type": "markdown",
   "metadata": {},
   "source": [
    "### 简单线图"
   ]
  },
  {
   "cell_type": "code",
   "execution_count": 5,
   "metadata": {
    "collapsed": false
   },
   "outputs": [
    {
     "data": {
      "text/html": [
       "\n",
       "\n",
       "    <div class=\"plotdiv\" id=\"0d485315-3d96-4206-998d-44afd54531be\"></div>\n",
       "<script type=\"text/javascript\">\n",
       "  \n",
       "  (function(global) {\n",
       "    function now() {\n",
       "      return new Date();\n",
       "    }\n",
       "  \n",
       "    if (typeof (window._bokeh_onload_callbacks) === \"undefined\") {\n",
       "      window._bokeh_onload_callbacks = [];\n",
       "    }\n",
       "  \n",
       "    function run_callbacks() {\n",
       "      window._bokeh_onload_callbacks.forEach(function(callback) { callback() });\n",
       "      delete window._bokeh_onload_callbacks\n",
       "      console.info(\"Bokeh: all callbacks have finished\");\n",
       "    }\n",
       "  \n",
       "    function load_libs(js_urls, callback) {\n",
       "      window._bokeh_onload_callbacks.push(callback);\n",
       "      if (window._bokeh_is_loading > 0) {\n",
       "        console.log(\"Bokeh: BokehJS is being loaded, scheduling callback at\", now());\n",
       "        return null;\n",
       "      }\n",
       "      if (js_urls == null || js_urls.length === 0) {\n",
       "        run_callbacks();\n",
       "        return null;\n",
       "      }\n",
       "      console.log(\"Bokeh: BokehJS not loaded, scheduling load and callback at\", now());\n",
       "      window._bokeh_is_loading = js_urls.length;\n",
       "      for (var i = 0; i < js_urls.length; i++) {\n",
       "        var url = js_urls[i];\n",
       "        var s = document.createElement('script');\n",
       "        s.src = url;\n",
       "        s.async = false;\n",
       "        s.onreadystatechange = s.onload = function() {\n",
       "          window._bokeh_is_loading--;\n",
       "          if (window._bokeh_is_loading === 0) {\n",
       "            console.log(\"Bokeh: all BokehJS libraries loaded\");\n",
       "            run_callbacks()\n",
       "          }\n",
       "        };\n",
       "        s.onerror = function() {\n",
       "          console.warn(\"failed to load library \" + url);\n",
       "        };\n",
       "        console.log(\"Bokeh: injecting script tag for BokehJS library: \", url);\n",
       "        document.getElementsByTagName(\"head\")[0].appendChild(s);\n",
       "      }\n",
       "    };var element = document.getElementById(\"0d485315-3d96-4206-998d-44afd54531be\");\n",
       "    if (element == null) {\n",
       "      console.log(\"Bokeh: ERROR: autoload.js configured with elementid '0d485315-3d96-4206-998d-44afd54531be' but no matching script tag was found. \")\n",
       "      return false;\n",
       "    }\n",
       "  \n",
       "    var js_urls = [];\n",
       "  \n",
       "    var inline_js = [\n",
       "      function(Bokeh) {\n",
       "        Bokeh.$(function() {\n",
       "            var docs_json = {\"37a477d7-30a9-4030-a6f6-9896541f8c6f\":{\"roots\":{\"references\":[{\"attributes\":{\"data_source\":{\"id\":\"3266d7ff-0c12-48ed-be18-083de78beb0c\",\"type\":\"ColumnDataSource\"},\"glyph\":{\"id\":\"0e45e15b-2cf3-444c-b3fa-e402477189b1\",\"type\":\"Line\"},\"hover_glyph\":null,\"nonselection_glyph\":{\"id\":\"b8ddac4c-a4d8-49b4-83ca-65543bb511ad\",\"type\":\"Line\"},\"selection_glyph\":null},\"id\":\"7e4c198d-f1e7-4743-8751-0e8b09653a46\",\"type\":\"GlyphRenderer\"},{\"attributes\":{\"callback\":null,\"column_names\":[\"y\",\"x\"],\"data\":{\"x\":[1,2,3,4,5],\"y\":[6,7,2,4,5]}},\"id\":\"3266d7ff-0c12-48ed-be18-083de78beb0c\",\"type\":\"ColumnDataSource\"},{\"attributes\":{},\"id\":\"f1baefa9-a68d-483c-bbf2-fd57407f4756\",\"type\":\"BasicTickFormatter\"},{\"attributes\":{\"line_alpha\":{\"value\":0.1},\"line_color\":{\"value\":\"#1f77b4\"},\"line_width\":{\"value\":2},\"x\":{\"field\":\"x\"},\"y\":{\"field\":\"y\"}},\"id\":\"b8ddac4c-a4d8-49b4-83ca-65543bb511ad\",\"type\":\"Line\"},{\"attributes\":{\"overlay\":{\"id\":\"41acd8ef-d9ce-40f5-9a18-ebe98de9b109\",\"type\":\"BoxAnnotation\"},\"plot\":{\"id\":\"6e9e4cae-8738-49e8-a4f0-6b0bbaac59a8\",\"subtype\":\"Figure\",\"type\":\"Plot\"}},\"id\":\"771be298-9f5f-4c7d-bb94-06c8e5d6acf6\",\"type\":\"BoxZoomTool\"},{\"attributes\":{\"formatter\":{\"id\":\"edbd66e3-0e70-4173-b8d0-3cbabf44012e\",\"type\":\"BasicTickFormatter\"},\"plot\":{\"id\":\"6e9e4cae-8738-49e8-a4f0-6b0bbaac59a8\",\"subtype\":\"Figure\",\"type\":\"Plot\"},\"ticker\":{\"id\":\"ec659423-f8ad-4494-92e3-5e033deaf35b\",\"type\":\"BasicTicker\"}},\"id\":\"46c16c10-93eb-4b3b-8699-444732237021\",\"type\":\"LinearAxis\"},{\"attributes\":{\"callback\":null},\"id\":\"0bbf135d-610d-401a-ba2e-8e110bc5febc\",\"type\":\"DataRange1d\"},{\"attributes\":{\"bottom_units\":\"screen\",\"fill_alpha\":{\"value\":0.5},\"fill_color\":{\"value\":\"lightgrey\"},\"left_units\":\"screen\",\"level\":\"overlay\",\"line_alpha\":{\"value\":1.0},\"line_color\":{\"value\":\"black\"},\"line_dash\":[4,4],\"line_width\":{\"value\":2},\"plot\":null,\"render_mode\":\"css\",\"right_units\":\"screen\",\"top_units\":\"screen\"},\"id\":\"41acd8ef-d9ce-40f5-9a18-ebe98de9b109\",\"type\":\"BoxAnnotation\"},{\"attributes\":{\"plot\":{\"id\":\"6e9e4cae-8738-49e8-a4f0-6b0bbaac59a8\",\"subtype\":\"Figure\",\"type\":\"Plot\"}},\"id\":\"3bed2391-e9bb-42fc-9aad-6a12b4e860d0\",\"type\":\"HelpTool\"},{\"attributes\":{},\"id\":\"8d1aca6a-f624-41eb-90fb-405a03d5074a\",\"type\":\"ToolEvents\"},{\"attributes\":{},\"id\":\"674a790b-2ee9-4c7e-8238-7d36f908a132\",\"type\":\"BasicTicker\"},{\"attributes\":{\"plot\":{\"id\":\"6e9e4cae-8738-49e8-a4f0-6b0bbaac59a8\",\"subtype\":\"Figure\",\"type\":\"Plot\"}},\"id\":\"58d577e6-7f80-4c85-bc66-199ff6c984a2\",\"type\":\"ResizeTool\"},{\"attributes\":{},\"id\":\"edbd66e3-0e70-4173-b8d0-3cbabf44012e\",\"type\":\"BasicTickFormatter\"},{\"attributes\":{\"plot\":{\"id\":\"6e9e4cae-8738-49e8-a4f0-6b0bbaac59a8\",\"subtype\":\"Figure\",\"type\":\"Plot\"}},\"id\":\"fbf5b1aa-369f-4006-9145-04e64863ecf3\",\"type\":\"ResetTool\"},{\"attributes\":{},\"id\":\"ec659423-f8ad-4494-92e3-5e033deaf35b\",\"type\":\"BasicTicker\"},{\"attributes\":{\"plot\":{\"id\":\"6e9e4cae-8738-49e8-a4f0-6b0bbaac59a8\",\"subtype\":\"Figure\",\"type\":\"Plot\"}},\"id\":\"574544d6-71b3-4143-8fcc-c967d8e88006\",\"type\":\"PreviewSaveTool\"},{\"attributes\":{\"line_color\":{\"value\":\"#1f77b4\"},\"line_width\":{\"value\":2},\"x\":{\"field\":\"x\"},\"y\":{\"field\":\"y\"}},\"id\":\"0e45e15b-2cf3-444c-b3fa-e402477189b1\",\"type\":\"Line\"},{\"attributes\":{\"formatter\":{\"id\":\"f1baefa9-a68d-483c-bbf2-fd57407f4756\",\"type\":\"BasicTickFormatter\"},\"plot\":{\"id\":\"6e9e4cae-8738-49e8-a4f0-6b0bbaac59a8\",\"subtype\":\"Figure\",\"type\":\"Plot\"},\"ticker\":{\"id\":\"674a790b-2ee9-4c7e-8238-7d36f908a132\",\"type\":\"BasicTicker\"}},\"id\":\"09001ee4-81c3-423f-a5be-b960888288cd\",\"type\":\"LinearAxis\"},{\"attributes\":{\"callback\":null},\"id\":\"6eb85775-e474-4d0e-8b10-d0564a7673f8\",\"type\":\"DataRange1d\"},{\"attributes\":{\"dimension\":1,\"plot\":{\"id\":\"6e9e4cae-8738-49e8-a4f0-6b0bbaac59a8\",\"subtype\":\"Figure\",\"type\":\"Plot\"},\"ticker\":{\"id\":\"ec659423-f8ad-4494-92e3-5e033deaf35b\",\"type\":\"BasicTicker\"}},\"id\":\"e01dbc9b-0f45-46c6-be2e-349cfa9639f0\",\"type\":\"Grid\"},{\"attributes\":{\"plot\":{\"id\":\"6e9e4cae-8738-49e8-a4f0-6b0bbaac59a8\",\"subtype\":\"Figure\",\"type\":\"Plot\"}},\"id\":\"6ee8bc77-7790-4b62-ab4c-fa1757e84afc\",\"type\":\"PanTool\"},{\"attributes\":{\"plot\":{\"id\":\"6e9e4cae-8738-49e8-a4f0-6b0bbaac59a8\",\"subtype\":\"Figure\",\"type\":\"Plot\"}},\"id\":\"ace94967-efe9-46d1-9fe2-2b01708f0222\",\"type\":\"WheelZoomTool\"},{\"attributes\":{\"plot\":{\"id\":\"6e9e4cae-8738-49e8-a4f0-6b0bbaac59a8\",\"subtype\":\"Figure\",\"type\":\"Plot\"},\"ticker\":{\"id\":\"674a790b-2ee9-4c7e-8238-7d36f908a132\",\"type\":\"BasicTicker\"}},\"id\":\"0b43d09b-6b3b-4c72-95d6-ab5ec74e58ee\",\"type\":\"Grid\"},{\"attributes\":{\"below\":[{\"id\":\"09001ee4-81c3-423f-a5be-b960888288cd\",\"type\":\"LinearAxis\"}],\"left\":[{\"id\":\"46c16c10-93eb-4b3b-8699-444732237021\",\"type\":\"LinearAxis\"}],\"renderers\":[{\"id\":\"09001ee4-81c3-423f-a5be-b960888288cd\",\"type\":\"LinearAxis\"},{\"id\":\"0b43d09b-6b3b-4c72-95d6-ab5ec74e58ee\",\"type\":\"Grid\"},{\"id\":\"46c16c10-93eb-4b3b-8699-444732237021\",\"type\":\"LinearAxis\"},{\"id\":\"e01dbc9b-0f45-46c6-be2e-349cfa9639f0\",\"type\":\"Grid\"},{\"id\":\"41acd8ef-d9ce-40f5-9a18-ebe98de9b109\",\"type\":\"BoxAnnotation\"},{\"id\":\"7e4c198d-f1e7-4743-8751-0e8b09653a46\",\"type\":\"GlyphRenderer\"}],\"tool_events\":{\"id\":\"8d1aca6a-f624-41eb-90fb-405a03d5074a\",\"type\":\"ToolEvents\"},\"tools\":[{\"id\":\"6ee8bc77-7790-4b62-ab4c-fa1757e84afc\",\"type\":\"PanTool\"},{\"id\":\"ace94967-efe9-46d1-9fe2-2b01708f0222\",\"type\":\"WheelZoomTool\"},{\"id\":\"771be298-9f5f-4c7d-bb94-06c8e5d6acf6\",\"type\":\"BoxZoomTool\"},{\"id\":\"574544d6-71b3-4143-8fcc-c967d8e88006\",\"type\":\"PreviewSaveTool\"},{\"id\":\"58d577e6-7f80-4c85-bc66-199ff6c984a2\",\"type\":\"ResizeTool\"},{\"id\":\"fbf5b1aa-369f-4006-9145-04e64863ecf3\",\"type\":\"ResetTool\"},{\"id\":\"3bed2391-e9bb-42fc-9aad-6a12b4e860d0\",\"type\":\"HelpTool\"}],\"x_range\":{\"id\":\"6eb85775-e474-4d0e-8b10-d0564a7673f8\",\"type\":\"DataRange1d\"},\"y_range\":{\"id\":\"0bbf135d-610d-401a-ba2e-8e110bc5febc\",\"type\":\"DataRange1d\"}},\"id\":\"6e9e4cae-8738-49e8-a4f0-6b0bbaac59a8\",\"subtype\":\"Figure\",\"type\":\"Plot\"}],\"root_ids\":[\"6e9e4cae-8738-49e8-a4f0-6b0bbaac59a8\"]},\"title\":\"Bokeh Application\",\"version\":\"0.11.1\"}};\n",
       "            var render_items = [{\"docid\":\"37a477d7-30a9-4030-a6f6-9896541f8c6f\",\"elementid\":\"0d485315-3d96-4206-998d-44afd54531be\",\"modelid\":\"6e9e4cae-8738-49e8-a4f0-6b0bbaac59a8\",\"notebook_comms_target\":\"1c5748e8-de58-496d-b85e-95e9246cf2df\"}];\n",
       "            \n",
       "            Bokeh.embed.embed_items(docs_json, render_items);\n",
       "        });\n",
       "      },\n",
       "      function(Bokeh) {\n",
       "      }\n",
       "    ];\n",
       "  \n",
       "    function run_inline_js() {\n",
       "      for (var i = 0; i < inline_js.length; i++) {\n",
       "        inline_js[i](window.Bokeh);\n",
       "      }\n",
       "    }\n",
       "  \n",
       "    if (window._bokeh_is_loading === 0) {\n",
       "      console.log(\"Bokeh: BokehJS loaded, going straight to plotting\");\n",
       "      run_inline_js();\n",
       "    } else {\n",
       "      load_libs(js_urls, function() {\n",
       "        console.log(\"Bokeh: BokehJS plotting callback run at\", now());\n",
       "        run_inline_js();\n",
       "      });\n",
       "    }\n",
       "  }(this));\n",
       "</script>"
      ]
     },
     "metadata": {},
     "output_type": "display_data"
    },
    {
     "data": {
      "text/html": [
       "<p><code>&lt;Bokeh Notebook handle for <strong>In[5]</strong>&gt;</code></p>"
      ],
      "text/plain": [
       "<bokeh.io._CommsHandle at 0x7f8b9b49dcc0>"
      ]
     },
     "execution_count": 5,
     "metadata": {},
     "output_type": "execute_result"
    }
   ],
   "source": [
    "p = figure()\n",
    "p.line([1, 2, 3, 4, 5], [6, 7, 2, 4, 5], line_width=2)\n",
    "show(p)"
   ]
  },
  {
   "cell_type": "markdown",
   "metadata": {},
   "source": [
    "### 简单的创建一个图\n",
    "\n",
    "tools 就是可以控制的地方"
   ]
  },
  {
   "cell_type": "code",
   "execution_count": 6,
   "metadata": {
    "collapsed": false
   },
   "outputs": [
    {
     "data": {
      "text/html": [
       "\n",
       "\n",
       "    <div class=\"plotdiv\" id=\"0e45a803-aeb0-404f-a60f-cb61870db43a\"></div>\n",
       "<script type=\"text/javascript\">\n",
       "  \n",
       "  (function(global) {\n",
       "    function now() {\n",
       "      return new Date();\n",
       "    }\n",
       "  \n",
       "    if (typeof (window._bokeh_onload_callbacks) === \"undefined\") {\n",
       "      window._bokeh_onload_callbacks = [];\n",
       "    }\n",
       "  \n",
       "    function run_callbacks() {\n",
       "      window._bokeh_onload_callbacks.forEach(function(callback) { callback() });\n",
       "      delete window._bokeh_onload_callbacks\n",
       "      console.info(\"Bokeh: all callbacks have finished\");\n",
       "    }\n",
       "  \n",
       "    function load_libs(js_urls, callback) {\n",
       "      window._bokeh_onload_callbacks.push(callback);\n",
       "      if (window._bokeh_is_loading > 0) {\n",
       "        console.log(\"Bokeh: BokehJS is being loaded, scheduling callback at\", now());\n",
       "        return null;\n",
       "      }\n",
       "      if (js_urls == null || js_urls.length === 0) {\n",
       "        run_callbacks();\n",
       "        return null;\n",
       "      }\n",
       "      console.log(\"Bokeh: BokehJS not loaded, scheduling load and callback at\", now());\n",
       "      window._bokeh_is_loading = js_urls.length;\n",
       "      for (var i = 0; i < js_urls.length; i++) {\n",
       "        var url = js_urls[i];\n",
       "        var s = document.createElement('script');\n",
       "        s.src = url;\n",
       "        s.async = false;\n",
       "        s.onreadystatechange = s.onload = function() {\n",
       "          window._bokeh_is_loading--;\n",
       "          if (window._bokeh_is_loading === 0) {\n",
       "            console.log(\"Bokeh: all BokehJS libraries loaded\");\n",
       "            run_callbacks()\n",
       "          }\n",
       "        };\n",
       "        s.onerror = function() {\n",
       "          console.warn(\"failed to load library \" + url);\n",
       "        };\n",
       "        console.log(\"Bokeh: injecting script tag for BokehJS library: \", url);\n",
       "        document.getElementsByTagName(\"head\")[0].appendChild(s);\n",
       "      }\n",
       "    };var element = document.getElementById(\"0e45a803-aeb0-404f-a60f-cb61870db43a\");\n",
       "    if (element == null) {\n",
       "      console.log(\"Bokeh: ERROR: autoload.js configured with elementid '0e45a803-aeb0-404f-a60f-cb61870db43a' but no matching script tag was found. \")\n",
       "      return false;\n",
       "    }\n",
       "  \n",
       "    var js_urls = [];\n",
       "  \n",
       "    var inline_js = [\n",
       "      function(Bokeh) {\n",
       "        Bokeh.$(function() {\n",
       "            var docs_json = {\"13856d20-01f9-4679-8347-2190f16abc91\":{\"roots\":{\"references\":[{\"attributes\":{\"data_source\":{\"id\":\"3266d7ff-0c12-48ed-be18-083de78beb0c\",\"type\":\"ColumnDataSource\"},\"glyph\":{\"id\":\"0e45e15b-2cf3-444c-b3fa-e402477189b1\",\"type\":\"Line\"},\"hover_glyph\":null,\"nonselection_glyph\":{\"id\":\"b8ddac4c-a4d8-49b4-83ca-65543bb511ad\",\"type\":\"Line\"},\"selection_glyph\":null},\"id\":\"7e4c198d-f1e7-4743-8751-0e8b09653a46\",\"type\":\"GlyphRenderer\"},{\"attributes\":{\"callback\":null,\"column_names\":[\"y\",\"x\"],\"data\":{\"x\":[1,2,3,4,5],\"y\":[6,7,2,4,5]}},\"id\":\"3266d7ff-0c12-48ed-be18-083de78beb0c\",\"type\":\"ColumnDataSource\"},{\"attributes\":{\"dimension\":1,\"plot\":{\"id\":\"37cf2e8d-087a-4f0c-bab8-a25766aeaf2a\",\"subtype\":\"Figure\",\"type\":\"Plot\"},\"ticker\":{\"id\":\"b96f8a9d-0995-4ac9-95ac-e7a584303e15\",\"type\":\"BasicTicker\"}},\"id\":\"1a684048-bf36-422f-a983-737351ee5d0f\",\"type\":\"Grid\"},{\"attributes\":{},\"id\":\"ffb18a0f-784e-45ab-9c30-ff5c9b6551ed\",\"type\":\"BasicTicker\"},{\"attributes\":{},\"id\":\"b96f8a9d-0995-4ac9-95ac-e7a584303e15\",\"type\":\"BasicTicker\"},{\"attributes\":{\"plot\":{\"id\":\"37cf2e8d-087a-4f0c-bab8-a25766aeaf2a\",\"subtype\":\"Figure\",\"type\":\"Plot\"}},\"id\":\"1f003455-03e9-42c5-ac22-deb178b00beb\",\"type\":\"PanTool\"},{\"attributes\":{\"line_alpha\":{\"value\":0.1},\"line_color\":{\"value\":\"#1f77b4\"},\"line_width\":{\"value\":2},\"x\":{\"field\":\"x\"},\"y\":{\"field\":\"y\"}},\"id\":\"b8ddac4c-a4d8-49b4-83ca-65543bb511ad\",\"type\":\"Line\"},{\"attributes\":{\"plot\":{\"id\":\"6e9e4cae-8738-49e8-a4f0-6b0bbaac59a8\",\"subtype\":\"Figure\",\"type\":\"Plot\"}},\"id\":\"6ee8bc77-7790-4b62-ab4c-fa1757e84afc\",\"type\":\"PanTool\"},{\"attributes\":{\"plot\":{\"id\":\"37cf2e8d-087a-4f0c-bab8-a25766aeaf2a\",\"subtype\":\"Figure\",\"type\":\"Plot\"},\"ticker\":{\"id\":\"ffb18a0f-784e-45ab-9c30-ff5c9b6551ed\",\"type\":\"BasicTicker\"}},\"id\":\"f8ed8fa8-3af1-4d3c-a1a2-d3cf35b022dd\",\"type\":\"Grid\"},{\"attributes\":{\"callback\":null},\"id\":\"0bbf135d-610d-401a-ba2e-8e110bc5febc\",\"type\":\"DataRange1d\"},{\"attributes\":{\"formatter\":{\"id\":\"edbd66e3-0e70-4173-b8d0-3cbabf44012e\",\"type\":\"BasicTickFormatter\"},\"plot\":{\"id\":\"6e9e4cae-8738-49e8-a4f0-6b0bbaac59a8\",\"subtype\":\"Figure\",\"type\":\"Plot\"},\"ticker\":{\"id\":\"ec659423-f8ad-4494-92e3-5e033deaf35b\",\"type\":\"BasicTicker\"}},\"id\":\"46c16c10-93eb-4b3b-8699-444732237021\",\"type\":\"LinearAxis\"},{\"attributes\":{\"overlay\":{\"id\":\"41acd8ef-d9ce-40f5-9a18-ebe98de9b109\",\"type\":\"BoxAnnotation\"},\"plot\":{\"id\":\"6e9e4cae-8738-49e8-a4f0-6b0bbaac59a8\",\"subtype\":\"Figure\",\"type\":\"Plot\"}},\"id\":\"771be298-9f5f-4c7d-bb94-06c8e5d6acf6\",\"type\":\"BoxZoomTool\"},{\"attributes\":{\"bottom_units\":\"screen\",\"fill_alpha\":{\"value\":0.5},\"fill_color\":{\"value\":\"lightgrey\"},\"left_units\":\"screen\",\"level\":\"overlay\",\"line_alpha\":{\"value\":1.0},\"line_color\":{\"value\":\"black\"},\"line_dash\":[4,4],\"line_width\":{\"value\":2},\"plot\":null,\"render_mode\":\"css\",\"right_units\":\"screen\",\"top_units\":\"screen\"},\"id\":\"41acd8ef-d9ce-40f5-9a18-ebe98de9b109\",\"type\":\"BoxAnnotation\"},{\"attributes\":{\"below\":[{\"id\":\"09001ee4-81c3-423f-a5be-b960888288cd\",\"type\":\"LinearAxis\"}],\"left\":[{\"id\":\"46c16c10-93eb-4b3b-8699-444732237021\",\"type\":\"LinearAxis\"}],\"renderers\":[{\"id\":\"09001ee4-81c3-423f-a5be-b960888288cd\",\"type\":\"LinearAxis\"},{\"id\":\"0b43d09b-6b3b-4c72-95d6-ab5ec74e58ee\",\"type\":\"Grid\"},{\"id\":\"46c16c10-93eb-4b3b-8699-444732237021\",\"type\":\"LinearAxis\"},{\"id\":\"e01dbc9b-0f45-46c6-be2e-349cfa9639f0\",\"type\":\"Grid\"},{\"id\":\"41acd8ef-d9ce-40f5-9a18-ebe98de9b109\",\"type\":\"BoxAnnotation\"},{\"id\":\"7e4c198d-f1e7-4743-8751-0e8b09653a46\",\"type\":\"GlyphRenderer\"}],\"tool_events\":{\"id\":\"8d1aca6a-f624-41eb-90fb-405a03d5074a\",\"type\":\"ToolEvents\"},\"tools\":[{\"id\":\"6ee8bc77-7790-4b62-ab4c-fa1757e84afc\",\"type\":\"PanTool\"},{\"id\":\"ace94967-efe9-46d1-9fe2-2b01708f0222\",\"type\":\"WheelZoomTool\"},{\"id\":\"771be298-9f5f-4c7d-bb94-06c8e5d6acf6\",\"type\":\"BoxZoomTool\"},{\"id\":\"574544d6-71b3-4143-8fcc-c967d8e88006\",\"type\":\"PreviewSaveTool\"},{\"id\":\"58d577e6-7f80-4c85-bc66-199ff6c984a2\",\"type\":\"ResizeTool\"},{\"id\":\"fbf5b1aa-369f-4006-9145-04e64863ecf3\",\"type\":\"ResetTool\"},{\"id\":\"3bed2391-e9bb-42fc-9aad-6a12b4e860d0\",\"type\":\"HelpTool\"}],\"x_range\":{\"id\":\"6eb85775-e474-4d0e-8b10-d0564a7673f8\",\"type\":\"DataRange1d\"},\"y_range\":{\"id\":\"0bbf135d-610d-401a-ba2e-8e110bc5febc\",\"type\":\"DataRange1d\"}},\"id\":\"6e9e4cae-8738-49e8-a4f0-6b0bbaac59a8\",\"subtype\":\"Figure\",\"type\":\"Plot\"},{\"attributes\":{\"callback\":null},\"id\":\"592fc6b0-8c85-4c86-ac8d-a7cf985ea6e6\",\"type\":\"DataRange1d\"},{\"attributes\":{\"callback\":null,\"column_names\":[\"y\",\"x\"],\"data\":{\"x\":[1.0,2.5,3.0,2.0],\"y\":[2.0,3.0,1.0,1.5]}},\"id\":\"f10f3f4c-00da-4fb1-949f-79f98f294227\",\"type\":\"ColumnDataSource\"},{\"attributes\":{},\"id\":\"8d1aca6a-f624-41eb-90fb-405a03d5074a\",\"type\":\"ToolEvents\"},{\"attributes\":{\"plot\":{\"id\":\"6e9e4cae-8738-49e8-a4f0-6b0bbaac59a8\",\"subtype\":\"Figure\",\"type\":\"Plot\"}},\"id\":\"58d577e6-7f80-4c85-bc66-199ff6c984a2\",\"type\":\"ResizeTool\"},{\"attributes\":{},\"id\":\"f1baefa9-a68d-483c-bbf2-fd57407f4756\",\"type\":\"BasicTickFormatter\"},{\"attributes\":{\"plot\":{\"id\":\"6e9e4cae-8738-49e8-a4f0-6b0bbaac59a8\",\"subtype\":\"Figure\",\"type\":\"Plot\"}},\"id\":\"3bed2391-e9bb-42fc-9aad-6a12b4e860d0\",\"type\":\"HelpTool\"},{\"attributes\":{},\"id\":\"674a790b-2ee9-4c7e-8238-7d36f908a132\",\"type\":\"BasicTicker\"},{\"attributes\":{},\"id\":\"edbd66e3-0e70-4173-b8d0-3cbabf44012e\",\"type\":\"BasicTickFormatter\"},{\"attributes\":{\"plot\":{\"id\":\"6e9e4cae-8738-49e8-a4f0-6b0bbaac59a8\",\"subtype\":\"Figure\",\"type\":\"Plot\"}},\"id\":\"fbf5b1aa-369f-4006-9145-04e64863ecf3\",\"type\":\"ResetTool\"},{\"attributes\":{\"plot\":{\"id\":\"37cf2e8d-087a-4f0c-bab8-a25766aeaf2a\",\"subtype\":\"Figure\",\"type\":\"Plot\"}},\"id\":\"76f535c7-3ba8-4593-a41a-c6c8480476d7\",\"type\":\"PreviewSaveTool\"},{\"attributes\":{\"fill_alpha\":{\"value\":0.1},\"fill_color\":{\"value\":\"#1f77b4\"},\"line_alpha\":{\"value\":0.1},\"line_color\":{\"value\":\"#1f77b4\"},\"radius\":{\"units\":\"data\",\"value\":0.3},\"x\":{\"field\":\"x\"},\"y\":{\"field\":\"y\"}},\"id\":\"a6ddc101-b320-41ca-aba3-409f2da4946b\",\"type\":\"Circle\"},{\"attributes\":{\"data_source\":{\"id\":\"f10f3f4c-00da-4fb1-949f-79f98f294227\",\"type\":\"ColumnDataSource\"},\"glyph\":{\"id\":\"739375c9-e9bb-42d7-9298-08dcdf193ee2\",\"type\":\"Circle\"},\"hover_glyph\":null,\"nonselection_glyph\":{\"id\":\"a6ddc101-b320-41ca-aba3-409f2da4946b\",\"type\":\"Circle\"},\"selection_glyph\":null},\"id\":\"f1290841-9bcb-4814-9850-0bcdbf7532e5\",\"type\":\"GlyphRenderer\"},{\"attributes\":{},\"id\":\"ec659423-f8ad-4494-92e3-5e033deaf35b\",\"type\":\"BasicTicker\"},{\"attributes\":{\"plot\":{\"id\":\"37cf2e8d-087a-4f0c-bab8-a25766aeaf2a\",\"subtype\":\"Figure\",\"type\":\"Plot\"}},\"id\":\"cde4788a-56f5-4323-9649-aad26bb5a85b\",\"type\":\"ResetTool\"},{\"attributes\":{\"plot\":{\"id\":\"6e9e4cae-8738-49e8-a4f0-6b0bbaac59a8\",\"subtype\":\"Figure\",\"type\":\"Plot\"}},\"id\":\"574544d6-71b3-4143-8fcc-c967d8e88006\",\"type\":\"PreviewSaveTool\"},{\"attributes\":{\"line_color\":{\"value\":\"#1f77b4\"},\"line_width\":{\"value\":2},\"x\":{\"field\":\"x\"},\"y\":{\"field\":\"y\"}},\"id\":\"0e45e15b-2cf3-444c-b3fa-e402477189b1\",\"type\":\"Line\"},{\"attributes\":{\"formatter\":{\"id\":\"f05e3729-0d48-4612-a7ca-5aad36710de4\",\"type\":\"BasicTickFormatter\"},\"plot\":{\"id\":\"37cf2e8d-087a-4f0c-bab8-a25766aeaf2a\",\"subtype\":\"Figure\",\"type\":\"Plot\"},\"ticker\":{\"id\":\"b96f8a9d-0995-4ac9-95ac-e7a584303e15\",\"type\":\"BasicTicker\"}},\"id\":\"bd9bf297-b12b-44f1-ac91-e0519683eee0\",\"type\":\"LinearAxis\"},{\"attributes\":{\"formatter\":{\"id\":\"f1baefa9-a68d-483c-bbf2-fd57407f4756\",\"type\":\"BasicTickFormatter\"},\"plot\":{\"id\":\"6e9e4cae-8738-49e8-a4f0-6b0bbaac59a8\",\"subtype\":\"Figure\",\"type\":\"Plot\"},\"ticker\":{\"id\":\"674a790b-2ee9-4c7e-8238-7d36f908a132\",\"type\":\"BasicTicker\"}},\"id\":\"09001ee4-81c3-423f-a5be-b960888288cd\",\"type\":\"LinearAxis\"},{\"attributes\":{\"callback\":null},\"id\":\"6eb85775-e474-4d0e-8b10-d0564a7673f8\",\"type\":\"DataRange1d\"},{\"attributes\":{\"dimension\":1,\"plot\":{\"id\":\"6e9e4cae-8738-49e8-a4f0-6b0bbaac59a8\",\"subtype\":\"Figure\",\"type\":\"Plot\"},\"ticker\":{\"id\":\"ec659423-f8ad-4494-92e3-5e033deaf35b\",\"type\":\"BasicTicker\"}},\"id\":\"e01dbc9b-0f45-46c6-be2e-349cfa9639f0\",\"type\":\"Grid\"},{\"attributes\":{\"callback\":null},\"id\":\"8738de7d-acbc-4016-9820-3f1f214c7f59\",\"type\":\"DataRange1d\"},{\"attributes\":{},\"id\":\"d3d9b3cc-c60c-4de1-95b1-dd22124f289a\",\"type\":\"BasicTickFormatter\"},{\"attributes\":{\"fill_alpha\":{\"value\":0.5},\"fill_color\":{\"value\":\"#1f77b4\"},\"line_alpha\":{\"value\":0.5},\"line_color\":{\"value\":\"#1f77b4\"},\"radius\":{\"units\":\"data\",\"value\":0.3},\"x\":{\"field\":\"x\"},\"y\":{\"field\":\"y\"}},\"id\":\"739375c9-e9bb-42d7-9298-08dcdf193ee2\",\"type\":\"Circle\"},{\"attributes\":{\"plot\":{\"id\":\"6e9e4cae-8738-49e8-a4f0-6b0bbaac59a8\",\"subtype\":\"Figure\",\"type\":\"Plot\"}},\"id\":\"ace94967-efe9-46d1-9fe2-2b01708f0222\",\"type\":\"WheelZoomTool\"},{\"attributes\":{\"below\":[{\"id\":\"e5c901d6-d43c-4acc-a3ef-c847e4e22bc7\",\"type\":\"LinearAxis\"}],\"left\":[{\"id\":\"bd9bf297-b12b-44f1-ac91-e0519683eee0\",\"type\":\"LinearAxis\"}],\"plot_height\":300,\"plot_width\":300,\"renderers\":[{\"id\":\"e5c901d6-d43c-4acc-a3ef-c847e4e22bc7\",\"type\":\"LinearAxis\"},{\"id\":\"f8ed8fa8-3af1-4d3c-a1a2-d3cf35b022dd\",\"type\":\"Grid\"},{\"id\":\"bd9bf297-b12b-44f1-ac91-e0519683eee0\",\"type\":\"LinearAxis\"},{\"id\":\"1a684048-bf36-422f-a983-737351ee5d0f\",\"type\":\"Grid\"},{\"id\":\"f1290841-9bcb-4814-9850-0bcdbf7532e5\",\"type\":\"GlyphRenderer\"}],\"tool_events\":{\"id\":\"9a377d5c-16e6-4137-a2c1-2ed8f30c5393\",\"type\":\"ToolEvents\"},\"tools\":[{\"id\":\"1f003455-03e9-42c5-ac22-deb178b00beb\",\"type\":\"PanTool\"},{\"id\":\"cde4788a-56f5-4323-9649-aad26bb5a85b\",\"type\":\"ResetTool\"},{\"id\":\"76f535c7-3ba8-4593-a41a-c6c8480476d7\",\"type\":\"PreviewSaveTool\"}],\"x_range\":{\"id\":\"8738de7d-acbc-4016-9820-3f1f214c7f59\",\"type\":\"DataRange1d\"},\"y_range\":{\"id\":\"592fc6b0-8c85-4c86-ac8d-a7cf985ea6e6\",\"type\":\"DataRange1d\"}},\"id\":\"37cf2e8d-087a-4f0c-bab8-a25766aeaf2a\",\"subtype\":\"Figure\",\"type\":\"Plot\"},{\"attributes\":{\"formatter\":{\"id\":\"d3d9b3cc-c60c-4de1-95b1-dd22124f289a\",\"type\":\"BasicTickFormatter\"},\"plot\":{\"id\":\"37cf2e8d-087a-4f0c-bab8-a25766aeaf2a\",\"subtype\":\"Figure\",\"type\":\"Plot\"},\"ticker\":{\"id\":\"ffb18a0f-784e-45ab-9c30-ff5c9b6551ed\",\"type\":\"BasicTicker\"}},\"id\":\"e5c901d6-d43c-4acc-a3ef-c847e4e22bc7\",\"type\":\"LinearAxis\"},{\"attributes\":{},\"id\":\"f05e3729-0d48-4612-a7ca-5aad36710de4\",\"type\":\"BasicTickFormatter\"},{\"attributes\":{\"plot\":{\"id\":\"6e9e4cae-8738-49e8-a4f0-6b0bbaac59a8\",\"subtype\":\"Figure\",\"type\":\"Plot\"},\"ticker\":{\"id\":\"674a790b-2ee9-4c7e-8238-7d36f908a132\",\"type\":\"BasicTicker\"}},\"id\":\"0b43d09b-6b3b-4c72-95d6-ab5ec74e58ee\",\"type\":\"Grid\"},{\"attributes\":{},\"id\":\"9a377d5c-16e6-4137-a2c1-2ed8f30c5393\",\"type\":\"ToolEvents\"}],\"root_ids\":[\"6e9e4cae-8738-49e8-a4f0-6b0bbaac59a8\",\"37cf2e8d-087a-4f0c-bab8-a25766aeaf2a\"]},\"title\":\"Bokeh Application\",\"version\":\"0.11.1\"}};\n",
       "            var render_items = [{\"docid\":\"13856d20-01f9-4679-8347-2190f16abc91\",\"elementid\":\"0e45a803-aeb0-404f-a60f-cb61870db43a\",\"modelid\":\"37cf2e8d-087a-4f0c-bab8-a25766aeaf2a\",\"notebook_comms_target\":\"d425335c-694c-42f9-8575-0122c382bf9f\"}];\n",
       "            \n",
       "            Bokeh.embed.embed_items(docs_json, render_items);\n",
       "        });\n",
       "      },\n",
       "      function(Bokeh) {\n",
       "      }\n",
       "    ];\n",
       "  \n",
       "    function run_inline_js() {\n",
       "      for (var i = 0; i < inline_js.length; i++) {\n",
       "        inline_js[i](window.Bokeh);\n",
       "      }\n",
       "    }\n",
       "  \n",
       "    if (window._bokeh_is_loading === 0) {\n",
       "      console.log(\"Bokeh: BokehJS loaded, going straight to plotting\");\n",
       "      run_inline_js();\n",
       "    } else {\n",
       "      load_libs(js_urls, function() {\n",
       "        console.log(\"Bokeh: BokehJS plotting callback run at\", now());\n",
       "        run_inline_js();\n",
       "      });\n",
       "    }\n",
       "  }(this));\n",
       "</script>"
      ]
     },
     "metadata": {},
     "output_type": "display_data"
    },
    {
     "data": {
      "text/html": [
       "<p><code>&lt;Bokeh Notebook handle for <strong>In[6]</strong>&gt;</code></p>"
      ],
      "text/plain": [
       "<bokeh.io._CommsHandle at 0x7f8b9b4b1be0>"
      ]
     },
     "execution_count": 6,
     "metadata": {},
     "output_type": "execute_result"
    }
   ],
   "source": [
    "# from bokeh.plotting import figure, output_file, show\n",
    "\n",
    "# create a Figure object\n",
    "p = figure(width=300, height=300, tools=\"pan,reset,save\")\n",
    "\n",
    "# add a Circle renderer to this figure\n",
    "p.circle([1, 2.5, 3, 2], [2, 3, 1, 1.5], radius=0.3, alpha=0.5)\n",
    "\n",
    "# specify how to output the plot(s)\n",
    "# output_file(\"foo.html\")\n",
    "\n",
    "# display the figure\n",
    "show(p)"
   ]
  },
  {
   "cell_type": "code",
   "execution_count": 10,
   "metadata": {
    "collapsed": false
   },
   "outputs": [
    {
     "data": {
      "text/html": [
       "<div>\n",
       "<table border=\"1\" class=\"dataframe\">\n",
       "  <thead>\n",
       "    <tr style=\"text-align: right;\">\n",
       "      <th></th>\n",
       "      <th>mpg</th>\n",
       "      <th>cyl</th>\n",
       "      <th>displ</th>\n",
       "      <th>hp</th>\n",
       "      <th>weight</th>\n",
       "      <th>accel</th>\n",
       "      <th>yr</th>\n",
       "      <th>origin</th>\n",
       "      <th>name</th>\n",
       "    </tr>\n",
       "  </thead>\n",
       "  <tbody>\n",
       "    <tr>\n",
       "      <th>0</th>\n",
       "      <td>18.0</td>\n",
       "      <td>8</td>\n",
       "      <td>307.0</td>\n",
       "      <td>130</td>\n",
       "      <td>3504</td>\n",
       "      <td>12.0</td>\n",
       "      <td>70</td>\n",
       "      <td>1</td>\n",
       "      <td>chevrolet chevelle malibu</td>\n",
       "    </tr>\n",
       "    <tr>\n",
       "      <th>1</th>\n",
       "      <td>15.0</td>\n",
       "      <td>8</td>\n",
       "      <td>350.0</td>\n",
       "      <td>165</td>\n",
       "      <td>3693</td>\n",
       "      <td>11.5</td>\n",
       "      <td>70</td>\n",
       "      <td>1</td>\n",
       "      <td>buick skylark 320</td>\n",
       "    </tr>\n",
       "    <tr>\n",
       "      <th>2</th>\n",
       "      <td>18.0</td>\n",
       "      <td>8</td>\n",
       "      <td>318.0</td>\n",
       "      <td>150</td>\n",
       "      <td>3436</td>\n",
       "      <td>11.0</td>\n",
       "      <td>70</td>\n",
       "      <td>1</td>\n",
       "      <td>plymouth satellite</td>\n",
       "    </tr>\n",
       "    <tr>\n",
       "      <th>3</th>\n",
       "      <td>16.0</td>\n",
       "      <td>8</td>\n",
       "      <td>304.0</td>\n",
       "      <td>150</td>\n",
       "      <td>3433</td>\n",
       "      <td>12.0</td>\n",
       "      <td>70</td>\n",
       "      <td>1</td>\n",
       "      <td>amc rebel sst</td>\n",
       "    </tr>\n",
       "    <tr>\n",
       "      <th>4</th>\n",
       "      <td>17.0</td>\n",
       "      <td>8</td>\n",
       "      <td>302.0</td>\n",
       "      <td>140</td>\n",
       "      <td>3449</td>\n",
       "      <td>10.5</td>\n",
       "      <td>70</td>\n",
       "      <td>1</td>\n",
       "      <td>ford torino</td>\n",
       "    </tr>\n",
       "  </tbody>\n",
       "</table>\n",
       "</div>"
      ],
      "text/plain": [
       "    mpg  cyl  displ   hp  weight  accel  yr  origin                       name\n",
       "0  18.0    8  307.0  130    3504   12.0  70       1  chevrolet chevelle malibu\n",
       "1  15.0    8  350.0  165    3693   11.5  70       1          buick skylark 320\n",
       "2  18.0    8  318.0  150    3436   11.0  70       1         plymouth satellite\n",
       "3  16.0    8  304.0  150    3433   12.0  70       1              amc rebel sst\n",
       "4  17.0    8  302.0  140    3449   10.5  70       1                ford torino"
      ]
     },
     "execution_count": 10,
     "metadata": {},
     "output_type": "execute_result"
    }
   ],
   "source": [
    "df.head()"
   ]
  },
  {
   "cell_type": "code",
   "execution_count": 8,
   "metadata": {
    "collapsed": false
   },
   "outputs": [
    {
     "data": {
      "text/html": [
       "\n",
       "\n",
       "    <div class=\"plotdiv\" id=\"a7b58d8f-675b-482f-bd06-453dd6767214\"></div>\n",
       "<script type=\"text/javascript\">\n",
       "  \n",
       "  (function(global) {\n",
       "    function now() {\n",
       "      return new Date();\n",
       "    }\n",
       "  \n",
       "    if (typeof (window._bokeh_onload_callbacks) === \"undefined\") {\n",
       "      window._bokeh_onload_callbacks = [];\n",
       "    }\n",
       "  \n",
       "    function run_callbacks() {\n",
       "      window._bokeh_onload_callbacks.forEach(function(callback) { callback() });\n",
       "      delete window._bokeh_onload_callbacks\n",
       "      console.info(\"Bokeh: all callbacks have finished\");\n",
       "    }\n",
       "  \n",
       "    function load_libs(js_urls, callback) {\n",
       "      window._bokeh_onload_callbacks.push(callback);\n",
       "      if (window._bokeh_is_loading > 0) {\n",
       "        console.log(\"Bokeh: BokehJS is being loaded, scheduling callback at\", now());\n",
       "        return null;\n",
       "      }\n",
       "      if (js_urls == null || js_urls.length === 0) {\n",
       "        run_callbacks();\n",
       "        return null;\n",
       "      }\n",
       "      console.log(\"Bokeh: BokehJS not loaded, scheduling load and callback at\", now());\n",
       "      window._bokeh_is_loading = js_urls.length;\n",
       "      for (var i = 0; i < js_urls.length; i++) {\n",
       "        var url = js_urls[i];\n",
       "        var s = document.createElement('script');\n",
       "        s.src = url;\n",
       "        s.async = false;\n",
       "        s.onreadystatechange = s.onload = function() {\n",
       "          window._bokeh_is_loading--;\n",
       "          if (window._bokeh_is_loading === 0) {\n",
       "            console.log(\"Bokeh: all BokehJS libraries loaded\");\n",
       "            run_callbacks()\n",
       "          }\n",
       "        };\n",
       "        s.onerror = function() {\n",
       "          console.warn(\"failed to load library \" + url);\n",
       "        };\n",
       "        console.log(\"Bokeh: injecting script tag for BokehJS library: \", url);\n",
       "        document.getElementsByTagName(\"head\")[0].appendChild(s);\n",
       "      }\n",
       "    };var element = document.getElementById(\"a7b58d8f-675b-482f-bd06-453dd6767214\");\n",
       "    if (element == null) {\n",
       "      console.log(\"Bokeh: ERROR: autoload.js configured with elementid 'a7b58d8f-675b-482f-bd06-453dd6767214' but no matching script tag was found. \")\n",
       "      return false;\n",
       "    }\n",
       "  \n",
       "    var js_urls = [];\n",
       "  \n",
       "    var inline_js = [\n",
       "      function(Bokeh) {\n",
       "        Bokeh.$(function() {\n",
       "            var docs_json = {\"9698950f-d513-43be-8c83-0e86f74dddab\":{\"roots\":{\"references\":[{\"attributes\":{\"callback\":null,\"column_names\":[\"y_values\",\"x_values\"],\"data\":{\"chart_index\":[{\"cyl\":4},{\"cyl\":4},{\"cyl\":4},{\"cyl\":4},{\"cyl\":4},{\"cyl\":4},{\"cyl\":4},{\"cyl\":4},{\"cyl\":4},{\"cyl\":4},{\"cyl\":4},{\"cyl\":4},{\"cyl\":4},{\"cyl\":4},{\"cyl\":4},{\"cyl\":4},{\"cyl\":4},{\"cyl\":4},{\"cyl\":4},{\"cyl\":4},{\"cyl\":4},{\"cyl\":4},{\"cyl\":4},{\"cyl\":4},{\"cyl\":4},{\"cyl\":4},{\"cyl\":4},{\"cyl\":4},{\"cyl\":4},{\"cyl\":4},{\"cyl\":4},{\"cyl\":4},{\"cyl\":4},{\"cyl\":4},{\"cyl\":4},{\"cyl\":4},{\"cyl\":4},{\"cyl\":4},{\"cyl\":4},{\"cyl\":4},{\"cyl\":4},{\"cyl\":4},{\"cyl\":4},{\"cyl\":4},{\"cyl\":4},{\"cyl\":4},{\"cyl\":4},{\"cyl\":4},{\"cyl\":4},{\"cyl\":4},{\"cyl\":4},{\"cyl\":4},{\"cyl\":4},{\"cyl\":4},{\"cyl\":4},{\"cyl\":4},{\"cyl\":4},{\"cyl\":4},{\"cyl\":4},{\"cyl\":4},{\"cyl\":4},{\"cyl\":4},{\"cyl\":4},{\"cyl\":4},{\"cyl\":4},{\"cyl\":4},{\"cyl\":4},{\"cyl\":4},{\"cyl\":4},{\"cyl\":4},{\"cyl\":4},{\"cyl\":4},{\"cyl\":4},{\"cyl\":4},{\"cyl\":4},{\"cyl\":4},{\"cyl\":4},{\"cyl\":4},{\"cyl\":4},{\"cyl\":4},{\"cyl\":4},{\"cyl\":4},{\"cyl\":4},{\"cyl\":4},{\"cyl\":4},{\"cyl\":4},{\"cyl\":4},{\"cyl\":4},{\"cyl\":4},{\"cyl\":4},{\"cyl\":4},{\"cyl\":4},{\"cyl\":4},{\"cyl\":4},{\"cyl\":4},{\"cyl\":4},{\"cyl\":4},{\"cyl\":4},{\"cyl\":4},{\"cyl\":4},{\"cyl\":4},{\"cyl\":4},{\"cyl\":4},{\"cyl\":4},{\"cyl\":4},{\"cyl\":4},{\"cyl\":4},{\"cyl\":4},{\"cyl\":4},{\"cyl\":4},{\"cyl\":4},{\"cyl\":4},{\"cyl\":4},{\"cyl\":4},{\"cyl\":4},{\"cyl\":4},{\"cyl\":4},{\"cyl\":4},{\"cyl\":4},{\"cyl\":4},{\"cyl\":4},{\"cyl\":4},{\"cyl\":4},{\"cyl\":4},{\"cyl\":4},{\"cyl\":4},{\"cyl\":4},{\"cyl\":4},{\"cyl\":4},{\"cyl\":4},{\"cyl\":4},{\"cyl\":4},{\"cyl\":4},{\"cyl\":4},{\"cyl\":4},{\"cyl\":4},{\"cyl\":4},{\"cyl\":4},{\"cyl\":4},{\"cyl\":4},{\"cyl\":4},{\"cyl\":4},{\"cyl\":4},{\"cyl\":4},{\"cyl\":4},{\"cyl\":4},{\"cyl\":4},{\"cyl\":4},{\"cyl\":4},{\"cyl\":4},{\"cyl\":4},{\"cyl\":4},{\"cyl\":4},{\"cyl\":4},{\"cyl\":4},{\"cyl\":4},{\"cyl\":4},{\"cyl\":4},{\"cyl\":4},{\"cyl\":4},{\"cyl\":4},{\"cyl\":4},{\"cyl\":4},{\"cyl\":4},{\"cyl\":4},{\"cyl\":4},{\"cyl\":4},{\"cyl\":4},{\"cyl\":4},{\"cyl\":4},{\"cyl\":4},{\"cyl\":4},{\"cyl\":4},{\"cyl\":4},{\"cyl\":4},{\"cyl\":4},{\"cyl\":4},{\"cyl\":4},{\"cyl\":4},{\"cyl\":4},{\"cyl\":4},{\"cyl\":4},{\"cyl\":4},{\"cyl\":4},{\"cyl\":4},{\"cyl\":4},{\"cyl\":4},{\"cyl\":4},{\"cyl\":4},{\"cyl\":4},{\"cyl\":4},{\"cyl\":4},{\"cyl\":4},{\"cyl\":4},{\"cyl\":4},{\"cyl\":4},{\"cyl\":4},{\"cyl\":4},{\"cyl\":4}],\"cyl\":[4,4,4,4,4,4,4,4,4,4,4,4,4,4,4,4,4,4,4,4,4,4,4,4,4,4,4,4,4,4,4,4,4,4,4,4,4,4,4,4,4,4,4,4,4,4,4,4,4,4,4,4,4,4,4,4,4,4,4,4,4,4,4,4,4,4,4,4,4,4,4,4,4,4,4,4,4,4,4,4,4,4,4,4,4,4,4,4,4,4,4,4,4,4,4,4,4,4,4,4,4,4,4,4,4,4,4,4,4,4,4,4,4,4,4,4,4,4,4,4,4,4,4,4,4,4,4,4,4,4,4,4,4,4,4,4,4,4,4,4,4,4,4,4,4,4,4,4,4,4,4,4,4,4,4,4,4,4,4,4,4,4,4,4,4,4,4,4,4,4,4,4,4,4,4,4,4,4,4,4,4,4,4,4,4,4,4,4,4,4,4,4,4,4,4,4,4,4,4],\"x_values\":[24.0,27.0,26.0,25.0,24.0,25.0,26.0,27.0,28.0,25.0,22.0,23.0,28.0,30.0,30.0,31.0,35.0,27.0,26.0,24.0,25.0,23.0,20.0,21.0,18.0,22.0,21.0,26.0,22.0,28.0,23.0,28.0,27.0,26.0,20.0,21.0,22.0,19.0,26.0,29.0,24.0,20.0,19.0,24.0,31.0,26.0,32.0,25.0,29.0,26.0,26.0,31.0,32.0,28.0,24.0,26.0,24.0,26.0,31.0,29.0,23.0,23.0,24.0,25.0,24.0,29.0,23.0,23.0,22.0,25.0,33.0,28.0,25.0,25.0,26.0,27.0,29.0,24.5,29.0,33.0,29.5,32.0,28.0,26.5,20.0,19.0,31.5,30.0,36.0,25.5,33.5,29.0,24.5,26.0,25.5,30.5,33.5,30.0,30.5,21.5,43.1,36.1,32.8,39.4,36.1,25.1,30.0,27.5,27.2,30.9,21.1,23.2,23.8,23.9,21.6,31.5,29.5,22.3,31.9,34.1,35.7,27.4,27.2,34.2,34.5,31.8,37.3,28.4,33.5,41.5,38.1,32.1,37.2,28.0,26.4,24.3,34.3,29.8,31.3,37.0,32.2,46.6,27.9,40.8,44.3,43.4,30.0,44.6,33.8,29.8,35.0,32.4,27.2,26.6,25.8,30.0,39.1,39.0,35.1,32.3,37.0,37.7,34.1,34.7,34.4,29.9,33.0,33.7,32.4,32.9,31.6,28.1,28.0,27.0,34.0,31.0,29.0,27.0,24.0,36.0,37.0,31.0,38.0,36.0,36.0,36.0,34.0,38.0,32.0,38.0,26.0,32.0,36.0,27.0,27.0,44.0,32.0,28.0,31.0],\"y_values\":[95,88,46,87,90,95,113,88,90,95,72,86,90,70,76,65,69,60,70,95,80,54,90,86,112,76,87,69,86,92,97,80,88,46,88,72,94,85,90,49,75,91,112,110,67,80,65,75,83,67,78,52,61,75,75,75,97,93,67,75,83,78,96,71,97,70,95,88,98,115,53,86,81,92,79,83,52,60,70,53,71,70,75,72,102,88,68,80,58,96,70,78,88,75,89,63,83,67,78,110,48,66,52,70,60,88,68,95,97,75,95,105,85,97,115,71,68,88,71,65,80,80,71,70,70,65,69,90,90,76,60,70,65,90,88,90,78,90,75,92,75,65,105,65,48,48,67,67,67,62,88,72,84,84,92,84,58,64,60,67,65,62,68,63,65,65,74,75,75,100,74,80,88,88,88,85,84,90,92,74,68,68,63,70,88,75,70,67,67,67,92,96,84,90,86,52,84,79,82]}},\"id\":\"dad7ed44-bd1d-4eee-a1f2-8c8e71a31731\",\"type\":\"ColumnDataSource\"},{\"attributes\":{\"data_source\":{\"id\":\"3266d7ff-0c12-48ed-be18-083de78beb0c\",\"type\":\"ColumnDataSource\"},\"glyph\":{\"id\":\"0e45e15b-2cf3-444c-b3fa-e402477189b1\",\"type\":\"Line\"},\"hover_glyph\":null,\"nonselection_glyph\":{\"id\":\"b8ddac4c-a4d8-49b4-83ca-65543bb511ad\",\"type\":\"Line\"},\"selection_glyph\":null},\"id\":\"7e4c198d-f1e7-4743-8751-0e8b09653a46\",\"type\":\"GlyphRenderer\"},{\"attributes\":{\"overlay\":{\"id\":\"615b85a8-4355-4923-aedf-cdae34995e62\",\"type\":\"BoxAnnotation\"},\"plot\":{\"id\":\"6c9156d6-510a-4a19-a492-ddb220ab0f17\",\"subtype\":\"Chart\",\"type\":\"Plot\"}},\"id\":\"a38e2063-103a-426c-9002-5d4eb8b66306\",\"type\":\"BoxZoomTool\"},{\"attributes\":{\"data_source\":{\"id\":\"0ddf32dc-4099-4233-82d9-2e51d8172886\",\"type\":\"ColumnDataSource\"},\"glyph\":{\"id\":\"1de71a46-8591-42e9-a994-730a211f3f1c\",\"type\":\"Circle\"},\"hover_glyph\":null,\"nonselection_glyph\":null,\"selection_glyph\":null},\"id\":\"aef1d1bc-b5da-4475-a9fa-e4b0708936d5\",\"type\":\"GlyphRenderer\"},{\"attributes\":{\"plot\":{\"id\":\"6c9156d6-510a-4a19-a492-ddb220ab0f17\",\"subtype\":\"Chart\",\"type\":\"Plot\"}},\"id\":\"f152d42d-8cc3-46f7-aed2-c139c8cddd24\",\"type\":\"ResetTool\"},{\"attributes\":{},\"id\":\"b96f8a9d-0995-4ac9-95ac-e7a584303e15\",\"type\":\"BasicTicker\"},{\"attributes\":{\"axis_label\":\"Miles Per Gallon\",\"formatter\":{\"id\":\"ca8300e5-a909-4d3a-b4fb-0ff6addb2fa1\",\"type\":\"BasicTickFormatter\"},\"plot\":{\"id\":\"6c9156d6-510a-4a19-a492-ddb220ab0f17\",\"subtype\":\"Chart\",\"type\":\"Plot\"},\"ticker\":{\"id\":\"4149b2a8-8659-4526-b719-803349367b13\",\"type\":\"BasicTicker\"}},\"id\":\"677434fe-ec1f-48ea-accf-7acc56d5bd66\",\"type\":\"LinearAxis\"},{\"attributes\":{\"line_alpha\":{\"value\":0.1},\"line_color\":{\"value\":\"#1f77b4\"},\"line_width\":{\"value\":2},\"x\":{\"field\":\"x\"},\"y\":{\"field\":\"y\"}},\"id\":\"b8ddac4c-a4d8-49b4-83ca-65543bb511ad\",\"type\":\"Line\"},{\"attributes\":{\"plot\":{\"id\":\"6c9156d6-510a-4a19-a492-ddb220ab0f17\",\"subtype\":\"Chart\",\"type\":\"Plot\"}},\"id\":\"0a3d5de9-5bce-49cb-9cf3-38fd0a994fcf\",\"type\":\"HelpTool\"},{\"attributes\":{\"plot\":{\"id\":\"37cf2e8d-087a-4f0c-bab8-a25766aeaf2a\",\"subtype\":\"Figure\",\"type\":\"Plot\"},\"ticker\":{\"id\":\"ffb18a0f-784e-45ab-9c30-ff5c9b6551ed\",\"type\":\"BasicTicker\"}},\"id\":\"f8ed8fa8-3af1-4d3c-a1a2-d3cf35b022dd\",\"type\":\"Grid\"},{\"attributes\":{\"callback\":null},\"id\":\"0bbf135d-610d-401a-ba2e-8e110bc5febc\",\"type\":\"DataRange1d\"},{\"attributes\":{\"formatter\":{\"id\":\"edbd66e3-0e70-4173-b8d0-3cbabf44012e\",\"type\":\"BasicTickFormatter\"},\"plot\":{\"id\":\"6e9e4cae-8738-49e8-a4f0-6b0bbaac59a8\",\"subtype\":\"Figure\",\"type\":\"Plot\"},\"ticker\":{\"id\":\"ec659423-f8ad-4494-92e3-5e033deaf35b\",\"type\":\"BasicTicker\"}},\"id\":\"46c16c10-93eb-4b3b-8699-444732237021\",\"type\":\"LinearAxis\"},{\"attributes\":{\"plot\":{\"id\":\"6e9e4cae-8738-49e8-a4f0-6b0bbaac59a8\",\"subtype\":\"Figure\",\"type\":\"Plot\"}},\"id\":\"6ee8bc77-7790-4b62-ab4c-fa1757e84afc\",\"type\":\"PanTool\"},{\"attributes\":{\"bottom_units\":\"screen\",\"fill_alpha\":{\"value\":0.5},\"fill_color\":{\"value\":\"lightgrey\"},\"left_units\":\"screen\",\"level\":\"overlay\",\"line_alpha\":{\"value\":1.0},\"line_color\":{\"value\":\"black\"},\"line_dash\":[4,4],\"line_width\":{\"value\":2},\"plot\":null,\"render_mode\":\"css\",\"right_units\":\"screen\",\"top_units\":\"screen\"},\"id\":\"41acd8ef-d9ce-40f5-9a18-ebe98de9b109\",\"type\":\"BoxAnnotation\"},{\"attributes\":{\"dimension\":1,\"plot\":{\"id\":\"6c9156d6-510a-4a19-a492-ddb220ab0f17\",\"subtype\":\"Chart\",\"type\":\"Plot\"},\"ticker\":{\"id\":\"a8ef711e-d93a-41b0-88e1-174b58863573\",\"type\":\"BasicTicker\"}},\"id\":\"9effaa37-0a63-40d7-beff-bbad9ea751f9\",\"type\":\"Grid\"},{\"attributes\":{},\"id\":\"0cf0f013-0b90-42ce-94f1-2967c5dda587\",\"type\":\"ToolEvents\"},{\"attributes\":{\"plot\":{\"id\":\"6e9e4cae-8738-49e8-a4f0-6b0bbaac59a8\",\"subtype\":\"Figure\",\"type\":\"Plot\"}},\"id\":\"574544d6-71b3-4143-8fcc-c967d8e88006\",\"type\":\"PreviewSaveTool\"},{\"attributes\":{\"callback\":null,\"column_names\":[\"y_values\",\"x_values\"],\"data\":{\"chart_index\":[{\"cyl\":8},{\"cyl\":8},{\"cyl\":8},{\"cyl\":8},{\"cyl\":8},{\"cyl\":8},{\"cyl\":8},{\"cyl\":8},{\"cyl\":8},{\"cyl\":8},{\"cyl\":8},{\"cyl\":8},{\"cyl\":8},{\"cyl\":8},{\"cyl\":8},{\"cyl\":8},{\"cyl\":8},{\"cyl\":8},{\"cyl\":8},{\"cyl\":8},{\"cyl\":8},{\"cyl\":8},{\"cyl\":8},{\"cyl\":8},{\"cyl\":8},{\"cyl\":8},{\"cyl\":8},{\"cyl\":8},{\"cyl\":8},{\"cyl\":8},{\"cyl\":8},{\"cyl\":8},{\"cyl\":8},{\"cyl\":8},{\"cyl\":8},{\"cyl\":8},{\"cyl\":8},{\"cyl\":8},{\"cyl\":8},{\"cyl\":8},{\"cyl\":8},{\"cyl\":8},{\"cyl\":8},{\"cyl\":8},{\"cyl\":8},{\"cyl\":8},{\"cyl\":8},{\"cyl\":8},{\"cyl\":8},{\"cyl\":8},{\"cyl\":8},{\"cyl\":8},{\"cyl\":8},{\"cyl\":8},{\"cyl\":8},{\"cyl\":8},{\"cyl\":8},{\"cyl\":8},{\"cyl\":8},{\"cyl\":8},{\"cyl\":8},{\"cyl\":8},{\"cyl\":8},{\"cyl\":8},{\"cyl\":8},{\"cyl\":8},{\"cyl\":8},{\"cyl\":8},{\"cyl\":8},{\"cyl\":8},{\"cyl\":8},{\"cyl\":8},{\"cyl\":8},{\"cyl\":8},{\"cyl\":8},{\"cyl\":8},{\"cyl\":8},{\"cyl\":8},{\"cyl\":8},{\"cyl\":8},{\"cyl\":8},{\"cyl\":8},{\"cyl\":8},{\"cyl\":8},{\"cyl\":8},{\"cyl\":8},{\"cyl\":8},{\"cyl\":8},{\"cyl\":8},{\"cyl\":8},{\"cyl\":8},{\"cyl\":8},{\"cyl\":8},{\"cyl\":8},{\"cyl\":8},{\"cyl\":8},{\"cyl\":8},{\"cyl\":8},{\"cyl\":8},{\"cyl\":8},{\"cyl\":8},{\"cyl\":8},{\"cyl\":8}],\"cyl\":[8,8,8,8,8,8,8,8,8,8,8,8,8,8,8,8,8,8,8,8,8,8,8,8,8,8,8,8,8,8,8,8,8,8,8,8,8,8,8,8,8,8,8,8,8,8,8,8,8,8,8,8,8,8,8,8,8,8,8,8,8,8,8,8,8,8,8,8,8,8,8,8,8,8,8,8,8,8,8,8,8,8,8,8,8,8,8,8,8,8,8,8,8,8,8,8,8,8,8,8,8,8,8],\"x_values\":[18.0,15.0,18.0,16.0,17.0,15.0,14.0,14.0,14.0,15.0,15.0,14.0,15.0,14.0,10.0,10.0,11.0,9.0,14.0,14.0,14.0,14.0,12.0,13.0,13.0,13.0,14.0,15.0,14.0,17.0,11.0,13.0,12.0,13.0,15.0,13.0,13.0,14.0,13.0,14.0,13.0,14.0,15.0,12.0,13.0,13.0,14.0,13.0,12.0,13.0,11.0,12.0,13.0,12.0,15.0,16.0,15.0,11.0,16.0,13.0,14.0,14.0,14.0,16.0,15.0,16.0,14.0,20.0,13.0,17.5,16.0,15.5,14.5,13.0,16.5,13.0,13.0,13.0,17.5,17.0,15.5,15.0,16.0,15.5,15.5,16.0,19.9,19.4,20.2,19.2,18.1,17.5,17.0,17.6,16.5,18.2,16.9,15.5,19.2,18.5,23.0,23.9,26.6],\"y_values\":[130,165,150,150,140,198,220,215,225,190,170,160,150,225,215,200,210,193,165,175,153,150,180,170,175,165,175,150,153,150,208,155,160,190,150,130,140,150,175,150,145,137,150,198,150,158,150,215,225,175,150,167,170,180,145,230,150,180,140,150,150,140,150,170,145,150,148,110,129,140,150,120,152,150,180,145,130,150,145,110,145,130,180,170,190,149,110,140,139,145,139,140,130,129,138,135,155,142,125,150,125,90,105]}},\"id\":\"e95ef0ec-16d3-4685-9177-cc679c19af96\",\"type\":\"ColumnDataSource\"},{\"attributes\":{},\"id\":\"8d1aca6a-f624-41eb-90fb-405a03d5074a\",\"type\":\"ToolEvents\"},{\"attributes\":{\"plot\":{\"id\":\"6c9156d6-510a-4a19-a492-ddb220ab0f17\",\"subtype\":\"Chart\",\"type\":\"Plot\"},\"ticker\":{\"id\":\"4149b2a8-8659-4526-b719-803349367b13\",\"type\":\"BasicTicker\"}},\"id\":\"6912d9a6-4d4b-447b-a395-2277924934ad\",\"type\":\"Grid\"},{\"attributes\":{\"legends\":[[\"8\",[{\"id\":\"0622ee56-3bd4-4532-84aa-20010d64adb3\",\"type\":\"GlyphRenderer\"}]],[\"4\",[{\"id\":\"cfd6e71a-d77e-44f9-b2a7-82603d5c4c37\",\"type\":\"GlyphRenderer\"}]],[\"6\",[{\"id\":\"aef1d1bc-b5da-4475-a9fa-e4b0708936d5\",\"type\":\"GlyphRenderer\"}]],[\"3\",[{\"id\":\"1efd8fdf-f780-4680-ab70-b6714a352d47\",\"type\":\"GlyphRenderer\"}]],[\"5\",[{\"id\":\"4acc3034-2633-4767-8e9e-dc9a82a54285\",\"type\":\"GlyphRenderer\"}]]],\"plot\":{\"id\":\"6c9156d6-510a-4a19-a492-ddb220ab0f17\",\"subtype\":\"Chart\",\"type\":\"Plot\"}},\"id\":\"7b250a2d-e9e1-4436-9e04-f1818cd1dc20\",\"type\":\"Legend\"},{\"attributes\":{},\"id\":\"ffb18a0f-784e-45ab-9c30-ff5c9b6551ed\",\"type\":\"BasicTicker\"},{\"attributes\":{\"callback\":null,\"column_names\":[\"y_values\",\"x_values\"],\"data\":{\"chart_index\":[{\"cyl\":6},{\"cyl\":6},{\"cyl\":6},{\"cyl\":6},{\"cyl\":6},{\"cyl\":6},{\"cyl\":6},{\"cyl\":6},{\"cyl\":6},{\"cyl\":6},{\"cyl\":6},{\"cyl\":6},{\"cyl\":6},{\"cyl\":6},{\"cyl\":6},{\"cyl\":6},{\"cyl\":6},{\"cyl\":6},{\"cyl\":6},{\"cyl\":6},{\"cyl\":6},{\"cyl\":6},{\"cyl\":6},{\"cyl\":6},{\"cyl\":6},{\"cyl\":6},{\"cyl\":6},{\"cyl\":6},{\"cyl\":6},{\"cyl\":6},{\"cyl\":6},{\"cyl\":6},{\"cyl\":6},{\"cyl\":6},{\"cyl\":6},{\"cyl\":6},{\"cyl\":6},{\"cyl\":6},{\"cyl\":6},{\"cyl\":6},{\"cyl\":6},{\"cyl\":6},{\"cyl\":6},{\"cyl\":6},{\"cyl\":6},{\"cyl\":6},{\"cyl\":6},{\"cyl\":6},{\"cyl\":6},{\"cyl\":6},{\"cyl\":6},{\"cyl\":6},{\"cyl\":6},{\"cyl\":6},{\"cyl\":6},{\"cyl\":6},{\"cyl\":6},{\"cyl\":6},{\"cyl\":6},{\"cyl\":6},{\"cyl\":6},{\"cyl\":6},{\"cyl\":6},{\"cyl\":6},{\"cyl\":6},{\"cyl\":6},{\"cyl\":6},{\"cyl\":6},{\"cyl\":6},{\"cyl\":6},{\"cyl\":6},{\"cyl\":6},{\"cyl\":6},{\"cyl\":6},{\"cyl\":6},{\"cyl\":6},{\"cyl\":6},{\"cyl\":6},{\"cyl\":6},{\"cyl\":6},{\"cyl\":6},{\"cyl\":6},{\"cyl\":6}],\"cyl\":[6,6,6,6,6,6,6,6,6,6,6,6,6,6,6,6,6,6,6,6,6,6,6,6,6,6,6,6,6,6,6,6,6,6,6,6,6,6,6,6,6,6,6,6,6,6,6,6,6,6,6,6,6,6,6,6,6,6,6,6,6,6,6,6,6,6,6,6,6,6,6,6,6,6,6,6,6,6,6,6,6,6,6],\"x_values\":[22.0,18.0,21.0,21.0,19.0,16.0,17.0,19.0,18.0,18.0,19.0,18.0,18.0,16.0,18.0,18.0,23.0,18.0,21.0,20.0,20.0,19.0,15.0,16.0,16.0,18.0,19.0,18.0,15.0,15.0,17.0,16.0,15.0,18.0,21.0,20.0,18.0,19.0,22.0,22.0,24.0,22.5,20.0,18.0,18.5,17.5,19.0,16.5,17.5,20.5,19.0,18.5,22.0,19.2,20.5,20.2,20.5,19.4,20.6,20.8,18.6,18.1,17.7,17.0,16.2,21.5,19.8,20.2,20.6,28.8,26.8,19.1,32.7,23.5,30.7,25.4,24.2,22.4,20.2,17.6,25.0,38.0,22.0],\"y_values\":[95,97,85,90,100,105,100,88,100,110,100,88,105,100,100,88,95,100,107,122,95,100,100,100,110,105,95,105,72,72,110,105,110,95,110,100,97,90,100,105,81,90,100,78,110,95,108,120,110,105,100,98,97,105,95,85,100,90,105,85,110,120,165,125,133,115,85,90,110,115,115,90,132,110,76,116,120,110,88,85,110,85,112]}},\"id\":\"0ddf32dc-4099-4233-82d9-2e51d8172886\",\"type\":\"ColumnDataSource\"},{\"attributes\":{\"data_source\":{\"id\":\"e95ef0ec-16d3-4685-9177-cc679c19af96\",\"type\":\"ColumnDataSource\"},\"glyph\":{\"id\":\"f8c57f5f-a05d-4ab5-aaa1-ced0200cc238\",\"type\":\"Circle\"},\"hover_glyph\":null,\"nonselection_glyph\":null,\"selection_glyph\":null},\"id\":\"0622ee56-3bd4-4532-84aa-20010d64adb3\",\"type\":\"GlyphRenderer\"},{\"attributes\":{\"callback\":null,\"end\":248.4,\"start\":27.599999999999998},\"id\":\"f84bc78c-880b-405f-b221-4c8fffc09f09\",\"type\":\"Range1d\"},{\"attributes\":{\"line_color\":{\"value\":\"#1f77b4\"},\"line_width\":{\"value\":2},\"x\":{\"field\":\"x\"},\"y\":{\"field\":\"y\"}},\"id\":\"0e45e15b-2cf3-444c-b3fa-e402477189b1\",\"type\":\"Line\"},{\"attributes\":{\"fill_alpha\":{\"value\":0.7},\"fill_color\":{\"value\":\"#f22c40\"},\"line_color\":{\"value\":\"#f22c40\"},\"size\":{\"units\":\"screen\",\"value\":8},\"x\":{\"field\":\"x_values\"},\"y\":{\"field\":\"y_values\"}},\"id\":\"150eca09-4532-4f86-838c-081a2e34ef92\",\"type\":\"Circle\"},{\"attributes\":{\"data_source\":{\"id\":\"f10f3f4c-00da-4fb1-949f-79f98f294227\",\"type\":\"ColumnDataSource\"},\"glyph\":{\"id\":\"739375c9-e9bb-42d7-9298-08dcdf193ee2\",\"type\":\"Circle\"},\"hover_glyph\":null,\"nonselection_glyph\":{\"id\":\"a6ddc101-b320-41ca-aba3-409f2da4946b\",\"type\":\"Circle\"},\"selection_glyph\":null},\"id\":\"f1290841-9bcb-4814-9850-0bcdbf7532e5\",\"type\":\"GlyphRenderer\"},{\"attributes\":{},\"id\":\"ec659423-f8ad-4494-92e3-5e033deaf35b\",\"type\":\"BasicTicker\"},{\"attributes\":{\"formatter\":{\"id\":\"f05e3729-0d48-4612-a7ca-5aad36710de4\",\"type\":\"BasicTickFormatter\"},\"plot\":{\"id\":\"37cf2e8d-087a-4f0c-bab8-a25766aeaf2a\",\"subtype\":\"Figure\",\"type\":\"Plot\"},\"ticker\":{\"id\":\"b96f8a9d-0995-4ac9-95ac-e7a584303e15\",\"type\":\"BasicTicker\"}},\"id\":\"bd9bf297-b12b-44f1-ac91-e0519683eee0\",\"type\":\"LinearAxis\"},{\"attributes\":{\"callback\":null},\"id\":\"6eb85775-e474-4d0e-8b10-d0564a7673f8\",\"type\":\"DataRange1d\"},{\"attributes\":{\"dimension\":1,\"plot\":{\"id\":\"6e9e4cae-8738-49e8-a4f0-6b0bbaac59a8\",\"subtype\":\"Figure\",\"type\":\"Plot\"},\"ticker\":{\"id\":\"ec659423-f8ad-4494-92e3-5e033deaf35b\",\"type\":\"BasicTicker\"}},\"id\":\"e01dbc9b-0f45-46c6-be2e-349cfa9639f0\",\"type\":\"Grid\"},{\"attributes\":{\"formatter\":{\"id\":\"d3d9b3cc-c60c-4de1-95b1-dd22124f289a\",\"type\":\"BasicTickFormatter\"},\"plot\":{\"id\":\"37cf2e8d-087a-4f0c-bab8-a25766aeaf2a\",\"subtype\":\"Figure\",\"type\":\"Plot\"},\"ticker\":{\"id\":\"ffb18a0f-784e-45ab-9c30-ff5c9b6551ed\",\"type\":\"BasicTicker\"}},\"id\":\"e5c901d6-d43c-4acc-a3ef-c847e4e22bc7\",\"type\":\"LinearAxis\"},{\"attributes\":{\"fill_alpha\":{\"value\":0.5},\"fill_color\":{\"value\":\"#1f77b4\"},\"line_alpha\":{\"value\":0.5},\"line_color\":{\"value\":\"#1f77b4\"},\"radius\":{\"units\":\"data\",\"value\":0.3},\"x\":{\"field\":\"x\"},\"y\":{\"field\":\"y\"}},\"id\":\"739375c9-e9bb-42d7-9298-08dcdf193ee2\",\"type\":\"Circle\"},{\"attributes\":{\"plot\":{\"id\":\"37cf2e8d-087a-4f0c-bab8-a25766aeaf2a\",\"subtype\":\"Figure\",\"type\":\"Plot\"}},\"id\":\"cde4788a-56f5-4323-9649-aad26bb5a85b\",\"type\":\"ResetTool\"},{\"attributes\":{\"plot\":{\"id\":\"6e9e4cae-8738-49e8-a4f0-6b0bbaac59a8\",\"subtype\":\"Figure\",\"type\":\"Plot\"},\"ticker\":{\"id\":\"674a790b-2ee9-4c7e-8238-7d36f908a132\",\"type\":\"BasicTicker\"}},\"id\":\"0b43d09b-6b3b-4c72-95d6-ab5ec74e58ee\",\"type\":\"Grid\"},{\"attributes\":{},\"id\":\"9a377d5c-16e6-4137-a2c1-2ed8f30c5393\",\"type\":\"ToolEvents\"},{\"attributes\":{\"callback\":null,\"column_names\":[\"y_values\",\"x_values\"],\"data\":{\"chart_index\":[{\"cyl\":5},{\"cyl\":5},{\"cyl\":5}],\"cyl\":[5,5,5],\"x_values\":[20.3,25.4,36.4],\"y_values\":[103,77,67]}},\"id\":\"b4596dfa-f45b-409b-8644-61e706f72135\",\"type\":\"ColumnDataSource\"},{\"attributes\":{\"callback\":null,\"column_names\":[\"y\",\"x\"],\"data\":{\"x\":[1,2,3,4,5],\"y\":[6,7,2,4,5]}},\"id\":\"3266d7ff-0c12-48ed-be18-083de78beb0c\",\"type\":\"ColumnDataSource\"},{\"attributes\":{\"fill_alpha\":{\"value\":0.7},\"fill_color\":{\"value\":\"#df5320\"},\"line_color\":{\"value\":\"#df5320\"},\"size\":{\"units\":\"screen\",\"value\":8},\"x\":{\"field\":\"x_values\"},\"y\":{\"field\":\"y_values\"}},\"id\":\"1de71a46-8591-42e9-a994-730a211f3f1c\",\"type\":\"Circle\"},{\"attributes\":{\"plot\":{\"id\":\"37cf2e8d-087a-4f0c-bab8-a25766aeaf2a\",\"subtype\":\"Figure\",\"type\":\"Plot\"}},\"id\":\"1f003455-03e9-42c5-ac22-deb178b00beb\",\"type\":\"PanTool\"},{\"attributes\":{\"fill_alpha\":{\"value\":0.7},\"fill_color\":{\"value\":\"#00ad9c\"},\"line_color\":{\"value\":\"#00ad9c\"},\"size\":{\"units\":\"screen\",\"value\":8},\"x\":{\"field\":\"x_values\"},\"y\":{\"field\":\"y_values\"}},\"id\":\"f8c57f5f-a05d-4ab5-aaa1-ced0200cc238\",\"type\":\"Circle\"},{\"attributes\":{},\"id\":\"a8ef711e-d93a-41b0-88e1-174b58863573\",\"type\":\"BasicTicker\"},{\"attributes\":{\"fill_alpha\":{\"value\":0.7},\"fill_color\":{\"value\":\"#407ee7\"},\"line_color\":{\"value\":\"#407ee7\"},\"size\":{\"units\":\"screen\",\"value\":8},\"x\":{\"field\":\"x_values\"},\"y\":{\"field\":\"y_values\"}},\"id\":\"f7c4f588-0377-4130-bf0e-3061609234e1\",\"type\":\"Circle\"},{\"attributes\":{\"plot\":{\"id\":\"6c9156d6-510a-4a19-a492-ddb220ab0f17\",\"subtype\":\"Chart\",\"type\":\"Plot\"}},\"id\":\"aa0ef8ae-05c7-4015-9813-7e4fdd35f16f\",\"type\":\"PanTool\"},{\"attributes\":{\"plot\":{\"id\":\"6c9156d6-510a-4a19-a492-ddb220ab0f17\",\"subtype\":\"Chart\",\"type\":\"Plot\"}},\"id\":\"dbdc01b6-17b9-48b7-913b-b3e792db4971\",\"type\":\"ResizeTool\"},{\"attributes\":{\"callback\":null,\"column_names\":[\"y_values\",\"x_values\"],\"data\":{\"chart_index\":[{\"cyl\":3},{\"cyl\":3},{\"cyl\":3},{\"cyl\":3}],\"cyl\":[3,3,3,3],\"x_values\":[19.0,18.0,21.5,23.7],\"y_values\":[97,90,110,100]}},\"id\":\"ea811e38-d2f6-4bfe-a88a-6257611a6f16\",\"type\":\"ColumnDataSource\"},{\"attributes\":{},\"id\":\"ecb09f7b-5215-4a36-90dd-8311aa5d5ecd\",\"type\":\"BasicTickFormatter\"},{\"attributes\":{\"below\":[{\"id\":\"09001ee4-81c3-423f-a5be-b960888288cd\",\"type\":\"LinearAxis\"}],\"left\":[{\"id\":\"46c16c10-93eb-4b3b-8699-444732237021\",\"type\":\"LinearAxis\"}],\"renderers\":[{\"id\":\"09001ee4-81c3-423f-a5be-b960888288cd\",\"type\":\"LinearAxis\"},{\"id\":\"0b43d09b-6b3b-4c72-95d6-ab5ec74e58ee\",\"type\":\"Grid\"},{\"id\":\"46c16c10-93eb-4b3b-8699-444732237021\",\"type\":\"LinearAxis\"},{\"id\":\"e01dbc9b-0f45-46c6-be2e-349cfa9639f0\",\"type\":\"Grid\"},{\"id\":\"41acd8ef-d9ce-40f5-9a18-ebe98de9b109\",\"type\":\"BoxAnnotation\"},{\"id\":\"7e4c198d-f1e7-4743-8751-0e8b09653a46\",\"type\":\"GlyphRenderer\"}],\"tool_events\":{\"id\":\"8d1aca6a-f624-41eb-90fb-405a03d5074a\",\"type\":\"ToolEvents\"},\"tools\":[{\"id\":\"6ee8bc77-7790-4b62-ab4c-fa1757e84afc\",\"type\":\"PanTool\"},{\"id\":\"ace94967-efe9-46d1-9fe2-2b01708f0222\",\"type\":\"WheelZoomTool\"},{\"id\":\"771be298-9f5f-4c7d-bb94-06c8e5d6acf6\",\"type\":\"BoxZoomTool\"},{\"id\":\"574544d6-71b3-4143-8fcc-c967d8e88006\",\"type\":\"PreviewSaveTool\"},{\"id\":\"58d577e6-7f80-4c85-bc66-199ff6c984a2\",\"type\":\"ResizeTool\"},{\"id\":\"fbf5b1aa-369f-4006-9145-04e64863ecf3\",\"type\":\"ResetTool\"},{\"id\":\"3bed2391-e9bb-42fc-9aad-6a12b4e860d0\",\"type\":\"HelpTool\"}],\"x_range\":{\"id\":\"6eb85775-e474-4d0e-8b10-d0564a7673f8\",\"type\":\"DataRange1d\"},\"y_range\":{\"id\":\"0bbf135d-610d-401a-ba2e-8e110bc5febc\",\"type\":\"DataRange1d\"}},\"id\":\"6e9e4cae-8738-49e8-a4f0-6b0bbaac59a8\",\"subtype\":\"Figure\",\"type\":\"Plot\"},{\"attributes\":{\"callback\":null},\"id\":\"592fc6b0-8c85-4c86-ac8d-a7cf985ea6e6\",\"type\":\"DataRange1d\"},{\"attributes\":{\"callback\":null,\"column_names\":[\"y\",\"x\"],\"data\":{\"x\":[1.0,2.5,3.0,2.0],\"y\":[2.0,3.0,1.0,1.5]}},\"id\":\"f10f3f4c-00da-4fb1-949f-79f98f294227\",\"type\":\"ColumnDataSource\"},{\"attributes\":{\"data_source\":{\"id\":\"ea811e38-d2f6-4bfe-a88a-6257611a6f16\",\"type\":\"ColumnDataSource\"},\"glyph\":{\"id\":\"150eca09-4532-4f86-838c-081a2e34ef92\",\"type\":\"Circle\"},\"hover_glyph\":null,\"nonselection_glyph\":null,\"selection_glyph\":null},\"id\":\"1efd8fdf-f780-4680-ab70-b6714a352d47\",\"type\":\"GlyphRenderer\"},{\"attributes\":{\"overlay\":{\"id\":\"41acd8ef-d9ce-40f5-9a18-ebe98de9b109\",\"type\":\"BoxAnnotation\"},\"plot\":{\"id\":\"6e9e4cae-8738-49e8-a4f0-6b0bbaac59a8\",\"subtype\":\"Figure\",\"type\":\"Plot\"}},\"id\":\"771be298-9f5f-4c7d-bb94-06c8e5d6acf6\",\"type\":\"BoxZoomTool\"},{\"attributes\":{\"data_source\":{\"id\":\"b4596dfa-f45b-409b-8644-61e706f72135\",\"type\":\"ColumnDataSource\"},\"glyph\":{\"id\":\"f7c4f588-0377-4130-bf0e-3061609234e1\",\"type\":\"Circle\"},\"hover_glyph\":null,\"nonselection_glyph\":null,\"selection_glyph\":null},\"id\":\"4acc3034-2633-4767-8e9e-dc9a82a54285\",\"type\":\"GlyphRenderer\"},{\"attributes\":{\"axis_label\":\"Horsepower\",\"formatter\":{\"id\":\"ecb09f7b-5215-4a36-90dd-8311aa5d5ecd\",\"type\":\"BasicTickFormatter\"},\"plot\":{\"id\":\"6c9156d6-510a-4a19-a492-ddb220ab0f17\",\"subtype\":\"Chart\",\"type\":\"Plot\"},\"ticker\":{\"id\":\"a8ef711e-d93a-41b0-88e1-174b58863573\",\"type\":\"BasicTicker\"}},\"id\":\"f3a6512c-76d4-45df-a673-4dd2820c968d\",\"type\":\"LinearAxis\"},{\"attributes\":{\"plot\":{\"id\":\"6e9e4cae-8738-49e8-a4f0-6b0bbaac59a8\",\"subtype\":\"Figure\",\"type\":\"Plot\"}},\"id\":\"58d577e6-7f80-4c85-bc66-199ff6c984a2\",\"type\":\"ResizeTool\"},{\"attributes\":{\"bottom_units\":\"screen\",\"fill_alpha\":{\"value\":0.5},\"fill_color\":{\"value\":\"lightgrey\"},\"left_units\":\"screen\",\"level\":\"overlay\",\"line_alpha\":{\"value\":1.0},\"line_color\":{\"value\":\"black\"},\"line_dash\":[4,4],\"line_width\":{\"value\":2},\"plot\":null,\"render_mode\":\"css\",\"right_units\":\"screen\",\"top_units\":\"screen\"},\"id\":\"615b85a8-4355-4923-aedf-cdae34995e62\",\"type\":\"BoxAnnotation\"},{\"attributes\":{\"fill_alpha\":{\"value\":0.7},\"fill_color\":{\"value\":\"#5ab738\"},\"line_color\":{\"value\":\"#5ab738\"},\"size\":{\"units\":\"screen\",\"value\":8},\"x\":{\"field\":\"x_values\"},\"y\":{\"field\":\"y_values\"}},\"id\":\"0b300092-bd41-4c52-b2c8-d640c5d0165b\",\"type\":\"Circle\"},{\"attributes\":{\"plot\":{\"id\":\"6c9156d6-510a-4a19-a492-ddb220ab0f17\",\"subtype\":\"Chart\",\"type\":\"Plot\"}},\"id\":\"c99a400d-ed21-4f65-9da7-4b108531164c\",\"type\":\"PreviewSaveTool\"},{\"attributes\":{\"plot\":{\"id\":\"6e9e4cae-8738-49e8-a4f0-6b0bbaac59a8\",\"subtype\":\"Figure\",\"type\":\"Plot\"}},\"id\":\"3bed2391-e9bb-42fc-9aad-6a12b4e860d0\",\"type\":\"HelpTool\"},{\"attributes\":{},\"id\":\"ca8300e5-a909-4d3a-b4fb-0ff6addb2fa1\",\"type\":\"BasicTickFormatter\"},{\"attributes\":{},\"id\":\"674a790b-2ee9-4c7e-8238-7d36f908a132\",\"type\":\"BasicTicker\"},{\"attributes\":{},\"id\":\"edbd66e3-0e70-4173-b8d0-3cbabf44012e\",\"type\":\"BasicTickFormatter\"},{\"attributes\":{\"plot\":{\"id\":\"6e9e4cae-8738-49e8-a4f0-6b0bbaac59a8\",\"subtype\":\"Figure\",\"type\":\"Plot\"}},\"id\":\"fbf5b1aa-369f-4006-9145-04e64863ecf3\",\"type\":\"ResetTool\"},{\"attributes\":{\"callback\":null,\"end\":50.36,\"start\":5.24},\"id\":\"67e8e9c9-c04d-4b26-a904-43816d13894c\",\"type\":\"Range1d\"},{\"attributes\":{\"fill_alpha\":{\"value\":0.1},\"fill_color\":{\"value\":\"#1f77b4\"},\"line_alpha\":{\"value\":0.1},\"line_color\":{\"value\":\"#1f77b4\"},\"radius\":{\"units\":\"data\",\"value\":0.3},\"x\":{\"field\":\"x\"},\"y\":{\"field\":\"y\"}},\"id\":\"a6ddc101-b320-41ca-aba3-409f2da4946b\",\"type\":\"Circle\"},{\"attributes\":{\"data_source\":{\"id\":\"dad7ed44-bd1d-4eee-a1f2-8c8e71a31731\",\"type\":\"ColumnDataSource\"},\"glyph\":{\"id\":\"0b300092-bd41-4c52-b2c8-d640c5d0165b\",\"type\":\"Circle\"},\"hover_glyph\":null,\"nonselection_glyph\":null,\"selection_glyph\":null},\"id\":\"cfd6e71a-d77e-44f9-b2a7-82603d5c4c37\",\"type\":\"GlyphRenderer\"},{\"attributes\":{\"below\":[{\"id\":\"677434fe-ec1f-48ea-accf-7acc56d5bd66\",\"type\":\"LinearAxis\"}],\"left\":[{\"id\":\"f3a6512c-76d4-45df-a673-4dd2820c968d\",\"type\":\"LinearAxis\"}],\"legend\":\"top_right\",\"renderers\":[{\"id\":\"615b85a8-4355-4923-aedf-cdae34995e62\",\"type\":\"BoxAnnotation\"},{\"id\":\"0622ee56-3bd4-4532-84aa-20010d64adb3\",\"type\":\"GlyphRenderer\"},{\"id\":\"cfd6e71a-d77e-44f9-b2a7-82603d5c4c37\",\"type\":\"GlyphRenderer\"},{\"id\":\"aef1d1bc-b5da-4475-a9fa-e4b0708936d5\",\"type\":\"GlyphRenderer\"},{\"id\":\"1efd8fdf-f780-4680-ab70-b6714a352d47\",\"type\":\"GlyphRenderer\"},{\"id\":\"4acc3034-2633-4767-8e9e-dc9a82a54285\",\"type\":\"GlyphRenderer\"},{\"id\":\"7b250a2d-e9e1-4436-9e04-f1818cd1dc20\",\"type\":\"Legend\"},{\"id\":\"677434fe-ec1f-48ea-accf-7acc56d5bd66\",\"type\":\"LinearAxis\"},{\"id\":\"f3a6512c-76d4-45df-a673-4dd2820c968d\",\"type\":\"LinearAxis\"},{\"id\":\"6912d9a6-4d4b-447b-a395-2277924934ad\",\"type\":\"Grid\"},{\"id\":\"9effaa37-0a63-40d7-beff-bbad9ea751f9\",\"type\":\"Grid\"}],\"title\":\"MPG vs HP (colored by CYL)\",\"title_text_font_size\":{\"value\":\"14pt\"},\"tool_events\":{\"id\":\"0cf0f013-0b90-42ce-94f1-2967c5dda587\",\"type\":\"ToolEvents\"},\"tools\":[{\"id\":\"aa0ef8ae-05c7-4015-9813-7e4fdd35f16f\",\"type\":\"PanTool\"},{\"id\":\"7c8c93df-7f62-4493-9e05-cce31a40f3e2\",\"type\":\"WheelZoomTool\"},{\"id\":\"a38e2063-103a-426c-9002-5d4eb8b66306\",\"type\":\"BoxZoomTool\"},{\"id\":\"c99a400d-ed21-4f65-9da7-4b108531164c\",\"type\":\"PreviewSaveTool\"},{\"id\":\"dbdc01b6-17b9-48b7-913b-b3e792db4971\",\"type\":\"ResizeTool\"},{\"id\":\"f152d42d-8cc3-46f7-aed2-c139c8cddd24\",\"type\":\"ResetTool\"},{\"id\":\"0a3d5de9-5bce-49cb-9cf3-38fd0a994fcf\",\"type\":\"HelpTool\"}],\"x_mapper_type\":\"auto\",\"x_range\":{\"id\":\"67e8e9c9-c04d-4b26-a904-43816d13894c\",\"type\":\"Range1d\"},\"xscale\":\"auto\",\"y_mapper_type\":\"auto\",\"y_range\":{\"id\":\"f84bc78c-880b-405f-b221-4c8fffc09f09\",\"type\":\"Range1d\"},\"yscale\":\"auto\"},\"id\":\"6c9156d6-510a-4a19-a492-ddb220ab0f17\",\"subtype\":\"Chart\",\"type\":\"Plot\"},{\"attributes\":{\"formatter\":{\"id\":\"f1baefa9-a68d-483c-bbf2-fd57407f4756\",\"type\":\"BasicTickFormatter\"},\"plot\":{\"id\":\"6e9e4cae-8738-49e8-a4f0-6b0bbaac59a8\",\"subtype\":\"Figure\",\"type\":\"Plot\"},\"ticker\":{\"id\":\"674a790b-2ee9-4c7e-8238-7d36f908a132\",\"type\":\"BasicTicker\"}},\"id\":\"09001ee4-81c3-423f-a5be-b960888288cd\",\"type\":\"LinearAxis\"},{\"attributes\":{},\"id\":\"4149b2a8-8659-4526-b719-803349367b13\",\"type\":\"BasicTicker\"},{\"attributes\":{},\"id\":\"f1baefa9-a68d-483c-bbf2-fd57407f4756\",\"type\":\"BasicTickFormatter\"},{\"attributes\":{\"callback\":null},\"id\":\"8738de7d-acbc-4016-9820-3f1f214c7f59\",\"type\":\"DataRange1d\"},{\"attributes\":{},\"id\":\"d3d9b3cc-c60c-4de1-95b1-dd22124f289a\",\"type\":\"BasicTickFormatter\"},{\"attributes\":{\"plot\":{\"id\":\"6e9e4cae-8738-49e8-a4f0-6b0bbaac59a8\",\"subtype\":\"Figure\",\"type\":\"Plot\"}},\"id\":\"ace94967-efe9-46d1-9fe2-2b01708f0222\",\"type\":\"WheelZoomTool\"},{\"attributes\":{\"below\":[{\"id\":\"e5c901d6-d43c-4acc-a3ef-c847e4e22bc7\",\"type\":\"LinearAxis\"}],\"left\":[{\"id\":\"bd9bf297-b12b-44f1-ac91-e0519683eee0\",\"type\":\"LinearAxis\"}],\"plot_height\":300,\"plot_width\":300,\"renderers\":[{\"id\":\"e5c901d6-d43c-4acc-a3ef-c847e4e22bc7\",\"type\":\"LinearAxis\"},{\"id\":\"f8ed8fa8-3af1-4d3c-a1a2-d3cf35b022dd\",\"type\":\"Grid\"},{\"id\":\"bd9bf297-b12b-44f1-ac91-e0519683eee0\",\"type\":\"LinearAxis\"},{\"id\":\"1a684048-bf36-422f-a983-737351ee5d0f\",\"type\":\"Grid\"},{\"id\":\"f1290841-9bcb-4814-9850-0bcdbf7532e5\",\"type\":\"GlyphRenderer\"}],\"tool_events\":{\"id\":\"9a377d5c-16e6-4137-a2c1-2ed8f30c5393\",\"type\":\"ToolEvents\"},\"tools\":[{\"id\":\"1f003455-03e9-42c5-ac22-deb178b00beb\",\"type\":\"PanTool\"},{\"id\":\"cde4788a-56f5-4323-9649-aad26bb5a85b\",\"type\":\"ResetTool\"},{\"id\":\"76f535c7-3ba8-4593-a41a-c6c8480476d7\",\"type\":\"PreviewSaveTool\"}],\"x_range\":{\"id\":\"8738de7d-acbc-4016-9820-3f1f214c7f59\",\"type\":\"DataRange1d\"},\"y_range\":{\"id\":\"592fc6b0-8c85-4c86-ac8d-a7cf985ea6e6\",\"type\":\"DataRange1d\"}},\"id\":\"37cf2e8d-087a-4f0c-bab8-a25766aeaf2a\",\"subtype\":\"Figure\",\"type\":\"Plot\"},{\"attributes\":{\"plot\":{\"id\":\"37cf2e8d-087a-4f0c-bab8-a25766aeaf2a\",\"subtype\":\"Figure\",\"type\":\"Plot\"}},\"id\":\"76f535c7-3ba8-4593-a41a-c6c8480476d7\",\"type\":\"PreviewSaveTool\"},{\"attributes\":{},\"id\":\"f05e3729-0d48-4612-a7ca-5aad36710de4\",\"type\":\"BasicTickFormatter\"},{\"attributes\":{\"plot\":{\"id\":\"6c9156d6-510a-4a19-a492-ddb220ab0f17\",\"subtype\":\"Chart\",\"type\":\"Plot\"}},\"id\":\"7c8c93df-7f62-4493-9e05-cce31a40f3e2\",\"type\":\"WheelZoomTool\"},{\"attributes\":{\"dimension\":1,\"plot\":{\"id\":\"37cf2e8d-087a-4f0c-bab8-a25766aeaf2a\",\"subtype\":\"Figure\",\"type\":\"Plot\"},\"ticker\":{\"id\":\"b96f8a9d-0995-4ac9-95ac-e7a584303e15\",\"type\":\"BasicTicker\"}},\"id\":\"1a684048-bf36-422f-a983-737351ee5d0f\",\"type\":\"Grid\"}],\"root_ids\":[\"6e9e4cae-8738-49e8-a4f0-6b0bbaac59a8\",\"37cf2e8d-087a-4f0c-bab8-a25766aeaf2a\",\"6c9156d6-510a-4a19-a492-ddb220ab0f17\"]},\"title\":\"Bokeh Application\",\"version\":\"0.11.1\"}};\n",
       "            var render_items = [{\"docid\":\"9698950f-d513-43be-8c83-0e86f74dddab\",\"elementid\":\"a7b58d8f-675b-482f-bd06-453dd6767214\",\"modelid\":\"6c9156d6-510a-4a19-a492-ddb220ab0f17\",\"notebook_comms_target\":\"1c8b869e-0194-4d85-8992-1fa260749bee\"}];\n",
       "            \n",
       "            Bokeh.embed.embed_items(docs_json, render_items);\n",
       "        });\n",
       "      },\n",
       "      function(Bokeh) {\n",
       "      }\n",
       "    ];\n",
       "  \n",
       "    function run_inline_js() {\n",
       "      for (var i = 0; i < inline_js.length; i++) {\n",
       "        inline_js[i](window.Bokeh);\n",
       "      }\n",
       "    }\n",
       "  \n",
       "    if (window._bokeh_is_loading === 0) {\n",
       "      console.log(\"Bokeh: BokehJS loaded, going straight to plotting\");\n",
       "      run_inline_js();\n",
       "    } else {\n",
       "      load_libs(js_urls, function() {\n",
       "        console.log(\"Bokeh: BokehJS plotting callback run at\", now());\n",
       "        run_inline_js();\n",
       "      });\n",
       "    }\n",
       "  }(this));\n",
       "</script>"
      ]
     },
     "metadata": {},
     "output_type": "display_data"
    },
    {
     "data": {
      "text/html": [
       "<p><code>&lt;Bokeh Notebook handle for <strong>In[8]</strong>&gt;</code></p>"
      ],
      "text/plain": [
       "<bokeh.io._CommsHandle at 0x7f8b9b2fd5c0>"
      ]
     },
     "execution_count": 8,
     "metadata": {},
     "output_type": "execute_result"
    }
   ],
   "source": [
    "from bokeh.charts import Scatter, show\n",
    "\n",
    "# prepare some data, a Pandas GroupBy object in this case\n",
    "from bokeh.sampledata.autompg import autompg as df\n",
    "\n",
    "# create a scatter chart\n",
    "p = Scatter(df, x='mpg', y='hp', color='cyl',\n",
    "            title=\"MPG vs HP (colored by CYL)\",\n",
    "            legend='top_right',\n",
    "            xlabel=\"Miles Per Gallon\",\n",
    "            ylabel=\"Horsepower\")\n",
    "\n",
    "# specify how to output the plot(s)\n",
    "# output_file(\"chart.html\")\n",
    "\n",
    "# display the figure\n",
    "show(p)"
   ]
  },
  {
   "cell_type": "code",
   "execution_count": 11,
   "metadata": {
    "collapsed": false
   },
   "outputs": [
    {
     "data": {
      "text/html": [
       "\n",
       "\n",
       "    <div class=\"plotdiv\" id=\"b159f309-0d5b-4899-8275-7c731c290831\"></div>\n",
       "<script type=\"text/javascript\">\n",
       "  \n",
       "  (function(global) {\n",
       "    function now() {\n",
       "      return new Date();\n",
       "    }\n",
       "  \n",
       "    if (typeof (window._bokeh_onload_callbacks) === \"undefined\") {\n",
       "      window._bokeh_onload_callbacks = [];\n",
       "    }\n",
       "  \n",
       "    function run_callbacks() {\n",
       "      window._bokeh_onload_callbacks.forEach(function(callback) { callback() });\n",
       "      delete window._bokeh_onload_callbacks\n",
       "      console.info(\"Bokeh: all callbacks have finished\");\n",
       "    }\n",
       "  \n",
       "    function load_libs(js_urls, callback) {\n",
       "      window._bokeh_onload_callbacks.push(callback);\n",
       "      if (window._bokeh_is_loading > 0) {\n",
       "        console.log(\"Bokeh: BokehJS is being loaded, scheduling callback at\", now());\n",
       "        return null;\n",
       "      }\n",
       "      if (js_urls == null || js_urls.length === 0) {\n",
       "        run_callbacks();\n",
       "        return null;\n",
       "      }\n",
       "      console.log(\"Bokeh: BokehJS not loaded, scheduling load and callback at\", now());\n",
       "      window._bokeh_is_loading = js_urls.length;\n",
       "      for (var i = 0; i < js_urls.length; i++) {\n",
       "        var url = js_urls[i];\n",
       "        var s = document.createElement('script');\n",
       "        s.src = url;\n",
       "        s.async = false;\n",
       "        s.onreadystatechange = s.onload = function() {\n",
       "          window._bokeh_is_loading--;\n",
       "          if (window._bokeh_is_loading === 0) {\n",
       "            console.log(\"Bokeh: all BokehJS libraries loaded\");\n",
       "            run_callbacks()\n",
       "          }\n",
       "        };\n",
       "        s.onerror = function() {\n",
       "          console.warn(\"failed to load library \" + url);\n",
       "        };\n",
       "        console.log(\"Bokeh: injecting script tag for BokehJS library: \", url);\n",
       "        document.getElementsByTagName(\"head\")[0].appendChild(s);\n",
       "      }\n",
       "    };var element = document.getElementById(\"b159f309-0d5b-4899-8275-7c731c290831\");\n",
       "    if (element == null) {\n",
       "      console.log(\"Bokeh: ERROR: autoload.js configured with elementid 'b159f309-0d5b-4899-8275-7c731c290831' but no matching script tag was found. \")\n",
       "      return false;\n",
       "    }\n",
       "  \n",
       "    var js_urls = [];\n",
       "  \n",
       "    var inline_js = [\n",
       "      function(Bokeh) {\n",
       "        Bokeh.$(function() {\n",
       "            var docs_json = {\"b83b5628-3dac-442f-81bf-17658a9a0005\":{\"roots\":{\"references\":[{\"attributes\":{\"data_source\":{\"id\":\"3266d7ff-0c12-48ed-be18-083de78beb0c\",\"type\":\"ColumnDataSource\"},\"glyph\":{\"id\":\"0e45e15b-2cf3-444c-b3fa-e402477189b1\",\"type\":\"Line\"},\"hover_glyph\":null,\"nonselection_glyph\":{\"id\":\"b8ddac4c-a4d8-49b4-83ca-65543bb511ad\",\"type\":\"Line\"},\"selection_glyph\":null},\"id\":\"7e4c198d-f1e7-4743-8751-0e8b09653a46\",\"type\":\"GlyphRenderer\"},{\"attributes\":{\"plot\":{\"id\":\"6c9156d6-510a-4a19-a492-ddb220ab0f17\",\"subtype\":\"Chart\",\"type\":\"Plot\"}},\"id\":\"f152d42d-8cc3-46f7-aed2-c139c8cddd24\",\"type\":\"ResetTool\"},{\"attributes\":{},\"id\":\"b96f8a9d-0995-4ac9-95ac-e7a584303e15\",\"type\":\"BasicTicker\"},{\"attributes\":{\"axis_label\":\"Miles Per Gallon\",\"formatter\":{\"id\":\"ca8300e5-a909-4d3a-b4fb-0ff6addb2fa1\",\"type\":\"BasicTickFormatter\"},\"plot\":{\"id\":\"6c9156d6-510a-4a19-a492-ddb220ab0f17\",\"subtype\":\"Chart\",\"type\":\"Plot\"},\"ticker\":{\"id\":\"4149b2a8-8659-4526-b719-803349367b13\",\"type\":\"BasicTicker\"}},\"id\":\"677434fe-ec1f-48ea-accf-7acc56d5bd66\",\"type\":\"LinearAxis\"},{\"attributes\":{\"line_alpha\":{\"value\":0.1},\"line_color\":{\"value\":\"#1f77b4\"},\"line_width\":{\"value\":2},\"x\":{\"field\":\"x\"},\"y\":{\"field\":\"y\"}},\"id\":\"b8ddac4c-a4d8-49b4-83ca-65543bb511ad\",\"type\":\"Line\"},{\"attributes\":{\"callback\":null},\"id\":\"0bbf135d-610d-401a-ba2e-8e110bc5febc\",\"type\":\"DataRange1d\"},{\"attributes\":{},\"id\":\"3ad57d64-2f9a-4230-b9a9-7c82ae061340\",\"type\":\"BasicTicker\"},{\"attributes\":{\"bottom_units\":\"screen\",\"fill_alpha\":{\"value\":0.5},\"fill_color\":{\"value\":\"lightgrey\"},\"left_units\":\"screen\",\"level\":\"overlay\",\"line_alpha\":{\"value\":1.0},\"line_color\":{\"value\":\"black\"},\"line_dash\":[4,4],\"line_width\":{\"value\":2},\"plot\":null,\"render_mode\":\"css\",\"right_units\":\"screen\",\"top_units\":\"screen\"},\"id\":\"41acd8ef-d9ce-40f5-9a18-ebe98de9b109\",\"type\":\"BoxAnnotation\"},{\"attributes\":{\"bottom_units\":\"screen\",\"fill_alpha\":{\"value\":0.5},\"fill_color\":{\"value\":\"lightgrey\"},\"left_units\":\"screen\",\"level\":\"overlay\",\"line_alpha\":{\"value\":1.0},\"line_color\":{\"value\":\"black\"},\"line_dash\":[4,4],\"line_width\":{\"value\":2},\"plot\":null,\"render_mode\":\"css\",\"right_units\":\"screen\",\"top_units\":\"screen\"},\"id\":\"3994457d-cc06-4646-8fc2-287220ca53e0\",\"type\":\"BoxAnnotation\"},{\"attributes\":{\"legends\":[[\"8\",[{\"id\":\"0622ee56-3bd4-4532-84aa-20010d64adb3\",\"type\":\"GlyphRenderer\"}]],[\"4\",[{\"id\":\"cfd6e71a-d77e-44f9-b2a7-82603d5c4c37\",\"type\":\"GlyphRenderer\"}]],[\"6\",[{\"id\":\"aef1d1bc-b5da-4475-a9fa-e4b0708936d5\",\"type\":\"GlyphRenderer\"}]],[\"3\",[{\"id\":\"1efd8fdf-f780-4680-ab70-b6714a352d47\",\"type\":\"GlyphRenderer\"}]],[\"5\",[{\"id\":\"4acc3034-2633-4767-8e9e-dc9a82a54285\",\"type\":\"GlyphRenderer\"}]]],\"plot\":{\"id\":\"6c9156d6-510a-4a19-a492-ddb220ab0f17\",\"subtype\":\"Chart\",\"type\":\"Plot\"}},\"id\":\"7b250a2d-e9e1-4436-9e04-f1818cd1dc20\",\"type\":\"Legend\"},{\"attributes\":{},\"id\":\"a270cfaa-cc36-4457-86e1-dfc4abc115b2\",\"type\":\"ToolEvents\"},{\"attributes\":{\"data_source\":{\"id\":\"e95ef0ec-16d3-4685-9177-cc679c19af96\",\"type\":\"ColumnDataSource\"},\"glyph\":{\"id\":\"f8c57f5f-a05d-4ab5-aaa1-ced0200cc238\",\"type\":\"Circle\"},\"hover_glyph\":null,\"nonselection_glyph\":null,\"selection_glyph\":null},\"id\":\"0622ee56-3bd4-4532-84aa-20010d64adb3\",\"type\":\"GlyphRenderer\"},{\"attributes\":{\"bottom_units\":\"screen\",\"fill_alpha\":{\"value\":0.5},\"fill_color\":{\"value\":\"lightgrey\"},\"left_units\":\"screen\",\"level\":\"overlay\",\"line_alpha\":{\"value\":1.0},\"line_color\":{\"value\":\"black\"},\"line_dash\":[4,4],\"line_width\":{\"value\":2},\"plot\":null,\"render_mode\":\"css\",\"right_units\":\"screen\",\"top_units\":\"screen\"},\"id\":\"615b85a8-4355-4923-aedf-cdae34995e62\",\"type\":\"BoxAnnotation\"},{\"attributes\":{\"line_color\":{\"value\":\"#1f77b4\"},\"line_width\":{\"value\":2},\"x\":{\"field\":\"x\"},\"y\":{\"field\":\"y\"}},\"id\":\"0e45e15b-2cf3-444c-b3fa-e402477189b1\",\"type\":\"Line\"},{\"attributes\":{\"formatter\":{\"id\":\"f05e3729-0d48-4612-a7ca-5aad36710de4\",\"type\":\"BasicTickFormatter\"},\"plot\":{\"id\":\"37cf2e8d-087a-4f0c-bab8-a25766aeaf2a\",\"subtype\":\"Figure\",\"type\":\"Plot\"},\"ticker\":{\"id\":\"b96f8a9d-0995-4ac9-95ac-e7a584303e15\",\"type\":\"BasicTicker\"}},\"id\":\"bd9bf297-b12b-44f1-ac91-e0519683eee0\",\"type\":\"LinearAxis\"},{\"attributes\":{},\"id\":\"ec659423-f8ad-4494-92e3-5e033deaf35b\",\"type\":\"BasicTicker\"},{\"attributes\":{\"data_source\":{\"id\":\"f10f3f4c-00da-4fb1-949f-79f98f294227\",\"type\":\"ColumnDataSource\"},\"glyph\":{\"id\":\"739375c9-e9bb-42d7-9298-08dcdf193ee2\",\"type\":\"Circle\"},\"hover_glyph\":null,\"nonselection_glyph\":{\"id\":\"a6ddc101-b320-41ca-aba3-409f2da4946b\",\"type\":\"Circle\"},\"selection_glyph\":null},\"id\":\"f1290841-9bcb-4814-9850-0bcdbf7532e5\",\"type\":\"GlyphRenderer\"},{\"attributes\":{\"dimension\":1,\"plot\":{\"id\":\"6e9e4cae-8738-49e8-a4f0-6b0bbaac59a8\",\"subtype\":\"Figure\",\"type\":\"Plot\"},\"ticker\":{\"id\":\"ec659423-f8ad-4494-92e3-5e033deaf35b\",\"type\":\"BasicTicker\"}},\"id\":\"e01dbc9b-0f45-46c6-be2e-349cfa9639f0\",\"type\":\"Grid\"},{\"attributes\":{\"formatter\":{\"id\":\"d3d9b3cc-c60c-4de1-95b1-dd22124f289a\",\"type\":\"BasicTickFormatter\"},\"plot\":{\"id\":\"37cf2e8d-087a-4f0c-bab8-a25766aeaf2a\",\"subtype\":\"Figure\",\"type\":\"Plot\"},\"ticker\":{\"id\":\"ffb18a0f-784e-45ab-9c30-ff5c9b6551ed\",\"type\":\"BasicTicker\"}},\"id\":\"e5c901d6-d43c-4acc-a3ef-c847e4e22bc7\",\"type\":\"LinearAxis\"},{\"attributes\":{\"fill_alpha\":{\"value\":0.5},\"fill_color\":{\"value\":\"#1f77b4\"},\"line_alpha\":{\"value\":0.5},\"line_color\":{\"value\":\"#1f77b4\"},\"radius\":{\"units\":\"data\",\"value\":0.3},\"x\":{\"field\":\"x\"},\"y\":{\"field\":\"y\"}},\"id\":\"739375c9-e9bb-42d7-9298-08dcdf193ee2\",\"type\":\"Circle\"},{\"attributes\":{\"overlay\":{\"id\":\"3994457d-cc06-4646-8fc2-287220ca53e0\",\"type\":\"BoxAnnotation\"},\"plot\":{\"id\":\"c9b376ba-5386-43fc-bcd9-5062c8bf5e55\",\"subtype\":\"Figure\",\"type\":\"Plot\"}},\"id\":\"19e843cc-5f88-43a6-bd7e-fc3b93354d60\",\"type\":\"BoxZoomTool\"},{\"attributes\":{\"plot\":{\"id\":\"37cf2e8d-087a-4f0c-bab8-a25766aeaf2a\",\"subtype\":\"Figure\",\"type\":\"Plot\"}},\"id\":\"cde4788a-56f5-4323-9649-aad26bb5a85b\",\"type\":\"ResetTool\"},{\"attributes\":{\"plot\":{\"id\":\"6c9156d6-510a-4a19-a492-ddb220ab0f17\",\"subtype\":\"Chart\",\"type\":\"Plot\"}},\"id\":\"7c8c93df-7f62-4493-9e05-cce31a40f3e2\",\"type\":\"WheelZoomTool\"},{\"attributes\":{\"dimension\":1,\"plot\":{\"id\":\"6c9156d6-510a-4a19-a492-ddb220ab0f17\",\"subtype\":\"Chart\",\"type\":\"Plot\"},\"ticker\":{\"id\":\"a8ef711e-d93a-41b0-88e1-174b58863573\",\"type\":\"BasicTicker\"}},\"id\":\"9effaa37-0a63-40d7-beff-bbad9ea751f9\",\"type\":\"Grid\"},{\"attributes\":{\"plot\":{\"id\":\"6c9156d6-510a-4a19-a492-ddb220ab0f17\",\"subtype\":\"Chart\",\"type\":\"Plot\"}},\"id\":\"0a3d5de9-5bce-49cb-9cf3-38fd0a994fcf\",\"type\":\"HelpTool\"},{\"attributes\":{\"plot\":{\"id\":\"c9b376ba-5386-43fc-bcd9-5062c8bf5e55\",\"subtype\":\"Figure\",\"type\":\"Plot\"}},\"id\":\"1b2f3af6-7531-4e48-ab64-23c9e1282478\",\"type\":\"PanTool\"},{\"attributes\":{},\"id\":\"70e29cb6-f57e-46ed-ae6e-84a3242dcb6f\",\"type\":\"BasicTicker\"},{\"attributes\":{\"plot\":{\"id\":\"37cf2e8d-087a-4f0c-bab8-a25766aeaf2a\",\"subtype\":\"Figure\",\"type\":\"Plot\"}},\"id\":\"1f003455-03e9-42c5-ac22-deb178b00beb\",\"type\":\"PanTool\"},{\"attributes\":{\"fill_alpha\":{\"value\":0.7},\"fill_color\":{\"value\":\"#00ad9c\"},\"line_color\":{\"value\":\"#00ad9c\"},\"size\":{\"units\":\"screen\",\"value\":8},\"x\":{\"field\":\"x_values\"},\"y\":{\"field\":\"y_values\"}},\"id\":\"f8c57f5f-a05d-4ab5-aaa1-ced0200cc238\",\"type\":\"Circle\"},{\"attributes\":{},\"id\":\"a8ef711e-d93a-41b0-88e1-174b58863573\",\"type\":\"BasicTicker\"},{\"attributes\":{\"below\":[{\"id\":\"004f7e81-a299-47ce-afd0-a845a891d01a\",\"type\":\"LinearAxis\"}],\"left\":[{\"id\":\"0cda9594-0e1b-4b46-bbaf-255489dce1c1\",\"type\":\"LinearAxis\"}],\"plot_height\":400,\"plot_width\":400,\"renderers\":[{\"id\":\"004f7e81-a299-47ce-afd0-a845a891d01a\",\"type\":\"LinearAxis\"},{\"id\":\"b25b6c40-fb08-4345-b73b-eb58a847dbc3\",\"type\":\"Grid\"},{\"id\":\"0cda9594-0e1b-4b46-bbaf-255489dce1c1\",\"type\":\"LinearAxis\"},{\"id\":\"64288561-8dbb-4b72-94f3-f4d2fc53b951\",\"type\":\"Grid\"},{\"id\":\"3994457d-cc06-4646-8fc2-287220ca53e0\",\"type\":\"BoxAnnotation\"},{\"id\":\"4999e29b-0fc0-434e-9f17-3bc60f5da156\",\"type\":\"GlyphRenderer\"}],\"tool_events\":{\"id\":\"a270cfaa-cc36-4457-86e1-dfc4abc115b2\",\"type\":\"ToolEvents\"},\"tools\":[{\"id\":\"1b2f3af6-7531-4e48-ab64-23c9e1282478\",\"type\":\"PanTool\"},{\"id\":\"84b99586-abcb-4439-95f6-d8877124f2c5\",\"type\":\"WheelZoomTool\"},{\"id\":\"19e843cc-5f88-43a6-bd7e-fc3b93354d60\",\"type\":\"BoxZoomTool\"},{\"id\":\"6f9d1b95-7b1d-49bb-8e51-d035986b1435\",\"type\":\"PreviewSaveTool\"},{\"id\":\"23778cc1-79fa-40d4-b6c1-5645c5f0dff3\",\"type\":\"ResizeTool\"},{\"id\":\"4e159cd0-9486-4fde-a4f9-2b9d425ed9cb\",\"type\":\"ResetTool\"},{\"id\":\"9ca49801-1f01-48cf-b4fe-2e15db7586c5\",\"type\":\"HelpTool\"}],\"x_range\":{\"id\":\"0cb1d8f8-6037-450f-966a-8bccbecd79da\",\"type\":\"DataRange1d\"},\"y_range\":{\"id\":\"fc58ba12-8198-4964-99f9-d4326e3342e7\",\"type\":\"DataRange1d\"}},\"id\":\"c9b376ba-5386-43fc-bcd9-5062c8bf5e55\",\"subtype\":\"Figure\",\"type\":\"Plot\"},{\"attributes\":{\"overlay\":{\"id\":\"41acd8ef-d9ce-40f5-9a18-ebe98de9b109\",\"type\":\"BoxAnnotation\"},\"plot\":{\"id\":\"6e9e4cae-8738-49e8-a4f0-6b0bbaac59a8\",\"subtype\":\"Figure\",\"type\":\"Plot\"}},\"id\":\"771be298-9f5f-4c7d-bb94-06c8e5d6acf6\",\"type\":\"BoxZoomTool\"},{\"attributes\":{\"plot\":{\"id\":\"6c9156d6-510a-4a19-a492-ddb220ab0f17\",\"subtype\":\"Chart\",\"type\":\"Plot\"}},\"id\":\"dbdc01b6-17b9-48b7-913b-b3e792db4971\",\"type\":\"ResizeTool\"},{\"attributes\":{\"callback\":null,\"column_names\":[\"y_values\",\"x_values\"],\"data\":{\"chart_index\":[{\"cyl\":3},{\"cyl\":3},{\"cyl\":3},{\"cyl\":3}],\"cyl\":[3,3,3,3],\"x_values\":[19.0,18.0,21.5,23.7],\"y_values\":[97,90,110,100]}},\"id\":\"ea811e38-d2f6-4bfe-a88a-6257611a6f16\",\"type\":\"ColumnDataSource\"},{\"attributes\":{\"plot\":{\"id\":\"c9b376ba-5386-43fc-bcd9-5062c8bf5e55\",\"subtype\":\"Figure\",\"type\":\"Plot\"}},\"id\":\"4e159cd0-9486-4fde-a4f9-2b9d425ed9cb\",\"type\":\"ResetTool\"},{\"attributes\":{\"formatter\":{\"id\":\"edbd66e3-0e70-4173-b8d0-3cbabf44012e\",\"type\":\"BasicTickFormatter\"},\"plot\":{\"id\":\"6e9e4cae-8738-49e8-a4f0-6b0bbaac59a8\",\"subtype\":\"Figure\",\"type\":\"Plot\"},\"ticker\":{\"id\":\"ec659423-f8ad-4494-92e3-5e033deaf35b\",\"type\":\"BasicTicker\"}},\"id\":\"46c16c10-93eb-4b3b-8699-444732237021\",\"type\":\"LinearAxis\"},{\"attributes\":{\"fill_alpha\":{\"value\":0.7},\"fill_color\":{\"value\":\"#f22c40\"},\"line_color\":{\"value\":\"#f22c40\"},\"size\":{\"units\":\"screen\",\"value\":8},\"x\":{\"field\":\"x_values\"},\"y\":{\"field\":\"y_values\"}},\"id\":\"150eca09-4532-4f86-838c-081a2e34ef92\",\"type\":\"Circle\"},{\"attributes\":{\"data_source\":{\"id\":\"b4596dfa-f45b-409b-8644-61e706f72135\",\"type\":\"ColumnDataSource\"},\"glyph\":{\"id\":\"f7c4f588-0377-4130-bf0e-3061609234e1\",\"type\":\"Circle\"},\"hover_glyph\":null,\"nonselection_glyph\":null,\"selection_glyph\":null},\"id\":\"4acc3034-2633-4767-8e9e-dc9a82a54285\",\"type\":\"GlyphRenderer\"},{\"attributes\":{\"fill_alpha\":{\"value\":0.7},\"fill_color\":{\"value\":\"#5ab738\"},\"line_color\":{\"value\":\"#5ab738\"},\"size\":{\"units\":\"screen\",\"value\":8},\"x\":{\"field\":\"x_values\"},\"y\":{\"field\":\"y_values\"}},\"id\":\"0b300092-bd41-4c52-b2c8-d640c5d0165b\",\"type\":\"Circle\"},{\"attributes\":{\"plot\":{\"id\":\"6c9156d6-510a-4a19-a492-ddb220ab0f17\",\"subtype\":\"Chart\",\"type\":\"Plot\"}},\"id\":\"c99a400d-ed21-4f65-9da7-4b108531164c\",\"type\":\"PreviewSaveTool\"},{\"attributes\":{\"dimension\":1,\"plot\":{\"id\":\"c9b376ba-5386-43fc-bcd9-5062c8bf5e55\",\"subtype\":\"Figure\",\"type\":\"Plot\"},\"ticker\":{\"id\":\"3ad57d64-2f9a-4230-b9a9-7c82ae061340\",\"type\":\"BasicTicker\"}},\"id\":\"64288561-8dbb-4b72-94f3-f4d2fc53b951\",\"type\":\"Grid\"},{\"attributes\":{},\"id\":\"ca8300e5-a909-4d3a-b4fb-0ff6addb2fa1\",\"type\":\"BasicTickFormatter\"},{\"attributes\":{},\"id\":\"674a790b-2ee9-4c7e-8238-7d36f908a132\",\"type\":\"BasicTicker\"},{\"attributes\":{},\"id\":\"edbd66e3-0e70-4173-b8d0-3cbabf44012e\",\"type\":\"BasicTickFormatter\"},{\"attributes\":{\"callback\":null,\"end\":50.36,\"start\":5.24},\"id\":\"67e8e9c9-c04d-4b26-a904-43816d13894c\",\"type\":\"Range1d\"},{\"attributes\":{\"callback\":null},\"id\":\"fc58ba12-8198-4964-99f9-d4326e3342e7\",\"type\":\"DataRange1d\"},{\"attributes\":{\"callback\":null,\"column_names\":[\"y_values\",\"x_values\"],\"data\":{\"chart_index\":[{\"cyl\":6},{\"cyl\":6},{\"cyl\":6},{\"cyl\":6},{\"cyl\":6},{\"cyl\":6},{\"cyl\":6},{\"cyl\":6},{\"cyl\":6},{\"cyl\":6},{\"cyl\":6},{\"cyl\":6},{\"cyl\":6},{\"cyl\":6},{\"cyl\":6},{\"cyl\":6},{\"cyl\":6},{\"cyl\":6},{\"cyl\":6},{\"cyl\":6},{\"cyl\":6},{\"cyl\":6},{\"cyl\":6},{\"cyl\":6},{\"cyl\":6},{\"cyl\":6},{\"cyl\":6},{\"cyl\":6},{\"cyl\":6},{\"cyl\":6},{\"cyl\":6},{\"cyl\":6},{\"cyl\":6},{\"cyl\":6},{\"cyl\":6},{\"cyl\":6},{\"cyl\":6},{\"cyl\":6},{\"cyl\":6},{\"cyl\":6},{\"cyl\":6},{\"cyl\":6},{\"cyl\":6},{\"cyl\":6},{\"cyl\":6},{\"cyl\":6},{\"cyl\":6},{\"cyl\":6},{\"cyl\":6},{\"cyl\":6},{\"cyl\":6},{\"cyl\":6},{\"cyl\":6},{\"cyl\":6},{\"cyl\":6},{\"cyl\":6},{\"cyl\":6},{\"cyl\":6},{\"cyl\":6},{\"cyl\":6},{\"cyl\":6},{\"cyl\":6},{\"cyl\":6},{\"cyl\":6},{\"cyl\":6},{\"cyl\":6},{\"cyl\":6},{\"cyl\":6},{\"cyl\":6},{\"cyl\":6},{\"cyl\":6},{\"cyl\":6},{\"cyl\":6},{\"cyl\":6},{\"cyl\":6},{\"cyl\":6},{\"cyl\":6},{\"cyl\":6},{\"cyl\":6},{\"cyl\":6},{\"cyl\":6},{\"cyl\":6},{\"cyl\":6}],\"cyl\":[6,6,6,6,6,6,6,6,6,6,6,6,6,6,6,6,6,6,6,6,6,6,6,6,6,6,6,6,6,6,6,6,6,6,6,6,6,6,6,6,6,6,6,6,6,6,6,6,6,6,6,6,6,6,6,6,6,6,6,6,6,6,6,6,6,6,6,6,6,6,6,6,6,6,6,6,6,6,6,6,6,6,6],\"x_values\":[22.0,18.0,21.0,21.0,19.0,16.0,17.0,19.0,18.0,18.0,19.0,18.0,18.0,16.0,18.0,18.0,23.0,18.0,21.0,20.0,20.0,19.0,15.0,16.0,16.0,18.0,19.0,18.0,15.0,15.0,17.0,16.0,15.0,18.0,21.0,20.0,18.0,19.0,22.0,22.0,24.0,22.5,20.0,18.0,18.5,17.5,19.0,16.5,17.5,20.5,19.0,18.5,22.0,19.2,20.5,20.2,20.5,19.4,20.6,20.8,18.6,18.1,17.7,17.0,16.2,21.5,19.8,20.2,20.6,28.8,26.8,19.1,32.7,23.5,30.7,25.4,24.2,22.4,20.2,17.6,25.0,38.0,22.0],\"y_values\":[95,97,85,90,100,105,100,88,100,110,100,88,105,100,100,88,95,100,107,122,95,100,100,100,110,105,95,105,72,72,110,105,110,95,110,100,97,90,100,105,81,90,100,78,110,95,108,120,110,105,100,98,97,105,95,85,100,90,105,85,110,120,165,125,133,115,85,90,110,115,115,90,132,110,76,116,120,110,88,85,110,85,112]}},\"id\":\"0ddf32dc-4099-4233-82d9-2e51d8172886\",\"type\":\"ColumnDataSource\"},{\"attributes\":{\"plot\":{\"id\":\"c9b376ba-5386-43fc-bcd9-5062c8bf5e55\",\"subtype\":\"Figure\",\"type\":\"Plot\"}},\"id\":\"9ca49801-1f01-48cf-b4fe-2e15db7586c5\",\"type\":\"HelpTool\"},{\"attributes\":{\"data_source\":{\"id\":\"dad7ed44-bd1d-4eee-a1f2-8c8e71a31731\",\"type\":\"ColumnDataSource\"},\"glyph\":{\"id\":\"0b300092-bd41-4c52-b2c8-d640c5d0165b\",\"type\":\"Circle\"},\"hover_glyph\":null,\"nonselection_glyph\":null,\"selection_glyph\":null},\"id\":\"cfd6e71a-d77e-44f9-b2a7-82603d5c4c37\",\"type\":\"GlyphRenderer\"},{\"attributes\":{\"formatter\":{\"id\":\"31aabf35-72bc-462d-a026-0d6973f9786f\",\"type\":\"BasicTickFormatter\"},\"plot\":{\"id\":\"c9b376ba-5386-43fc-bcd9-5062c8bf5e55\",\"subtype\":\"Figure\",\"type\":\"Plot\"},\"ticker\":{\"id\":\"70e29cb6-f57e-46ed-ae6e-84a3242dcb6f\",\"type\":\"BasicTicker\"}},\"id\":\"004f7e81-a299-47ce-afd0-a845a891d01a\",\"type\":\"LinearAxis\"},{\"attributes\":{},\"id\":\"9a377d5c-16e6-4137-a2c1-2ed8f30c5393\",\"type\":\"ToolEvents\"},{\"attributes\":{\"plot\":{\"id\":\"37cf2e8d-087a-4f0c-bab8-a25766aeaf2a\",\"subtype\":\"Figure\",\"type\":\"Plot\"}},\"id\":\"76f535c7-3ba8-4593-a41a-c6c8480476d7\",\"type\":\"PreviewSaveTool\"},{\"attributes\":{},\"id\":\"f05e3729-0d48-4612-a7ca-5aad36710de4\",\"type\":\"BasicTickFormatter\"},{\"attributes\":{\"plot\":{\"id\":\"c9b376ba-5386-43fc-bcd9-5062c8bf5e55\",\"subtype\":\"Figure\",\"type\":\"Plot\"},\"ticker\":{\"id\":\"70e29cb6-f57e-46ed-ae6e-84a3242dcb6f\",\"type\":\"BasicTicker\"}},\"id\":\"b25b6c40-fb08-4345-b73b-eb58a847dbc3\",\"type\":\"Grid\"},{\"attributes\":{\"callback\":null,\"column_names\":[\"y_values\",\"x_values\"],\"data\":{\"chart_index\":[{\"cyl\":4},{\"cyl\":4},{\"cyl\":4},{\"cyl\":4},{\"cyl\":4},{\"cyl\":4},{\"cyl\":4},{\"cyl\":4},{\"cyl\":4},{\"cyl\":4},{\"cyl\":4},{\"cyl\":4},{\"cyl\":4},{\"cyl\":4},{\"cyl\":4},{\"cyl\":4},{\"cyl\":4},{\"cyl\":4},{\"cyl\":4},{\"cyl\":4},{\"cyl\":4},{\"cyl\":4},{\"cyl\":4},{\"cyl\":4},{\"cyl\":4},{\"cyl\":4},{\"cyl\":4},{\"cyl\":4},{\"cyl\":4},{\"cyl\":4},{\"cyl\":4},{\"cyl\":4},{\"cyl\":4},{\"cyl\":4},{\"cyl\":4},{\"cyl\":4},{\"cyl\":4},{\"cyl\":4},{\"cyl\":4},{\"cyl\":4},{\"cyl\":4},{\"cyl\":4},{\"cyl\":4},{\"cyl\":4},{\"cyl\":4},{\"cyl\":4},{\"cyl\":4},{\"cyl\":4},{\"cyl\":4},{\"cyl\":4},{\"cyl\":4},{\"cyl\":4},{\"cyl\":4},{\"cyl\":4},{\"cyl\":4},{\"cyl\":4},{\"cyl\":4},{\"cyl\":4},{\"cyl\":4},{\"cyl\":4},{\"cyl\":4},{\"cyl\":4},{\"cyl\":4},{\"cyl\":4},{\"cyl\":4},{\"cyl\":4},{\"cyl\":4},{\"cyl\":4},{\"cyl\":4},{\"cyl\":4},{\"cyl\":4},{\"cyl\":4},{\"cyl\":4},{\"cyl\":4},{\"cyl\":4},{\"cyl\":4},{\"cyl\":4},{\"cyl\":4},{\"cyl\":4},{\"cyl\":4},{\"cyl\":4},{\"cyl\":4},{\"cyl\":4},{\"cyl\":4},{\"cyl\":4},{\"cyl\":4},{\"cyl\":4},{\"cyl\":4},{\"cyl\":4},{\"cyl\":4},{\"cyl\":4},{\"cyl\":4},{\"cyl\":4},{\"cyl\":4},{\"cyl\":4},{\"cyl\":4},{\"cyl\":4},{\"cyl\":4},{\"cyl\":4},{\"cyl\":4},{\"cyl\":4},{\"cyl\":4},{\"cyl\":4},{\"cyl\":4},{\"cyl\":4},{\"cyl\":4},{\"cyl\":4},{\"cyl\":4},{\"cyl\":4},{\"cyl\":4},{\"cyl\":4},{\"cyl\":4},{\"cyl\":4},{\"cyl\":4},{\"cyl\":4},{\"cyl\":4},{\"cyl\":4},{\"cyl\":4},{\"cyl\":4},{\"cyl\":4},{\"cyl\":4},{\"cyl\":4},{\"cyl\":4},{\"cyl\":4},{\"cyl\":4},{\"cyl\":4},{\"cyl\":4},{\"cyl\":4},{\"cyl\":4},{\"cyl\":4},{\"cyl\":4},{\"cyl\":4},{\"cyl\":4},{\"cyl\":4},{\"cyl\":4},{\"cyl\":4},{\"cyl\":4},{\"cyl\":4},{\"cyl\":4},{\"cyl\":4},{\"cyl\":4},{\"cyl\":4},{\"cyl\":4},{\"cyl\":4},{\"cyl\":4},{\"cyl\":4},{\"cyl\":4},{\"cyl\":4},{\"cyl\":4},{\"cyl\":4},{\"cyl\":4},{\"cyl\":4},{\"cyl\":4},{\"cyl\":4},{\"cyl\":4},{\"cyl\":4},{\"cyl\":4},{\"cyl\":4},{\"cyl\":4},{\"cyl\":4},{\"cyl\":4},{\"cyl\":4},{\"cyl\":4},{\"cyl\":4},{\"cyl\":4},{\"cyl\":4},{\"cyl\":4},{\"cyl\":4},{\"cyl\":4},{\"cyl\":4},{\"cyl\":4},{\"cyl\":4},{\"cyl\":4},{\"cyl\":4},{\"cyl\":4},{\"cyl\":4},{\"cyl\":4},{\"cyl\":4},{\"cyl\":4},{\"cyl\":4},{\"cyl\":4},{\"cyl\":4},{\"cyl\":4},{\"cyl\":4},{\"cyl\":4},{\"cyl\":4},{\"cyl\":4},{\"cyl\":4},{\"cyl\":4},{\"cyl\":4},{\"cyl\":4},{\"cyl\":4},{\"cyl\":4},{\"cyl\":4},{\"cyl\":4},{\"cyl\":4},{\"cyl\":4},{\"cyl\":4},{\"cyl\":4}],\"cyl\":[4,4,4,4,4,4,4,4,4,4,4,4,4,4,4,4,4,4,4,4,4,4,4,4,4,4,4,4,4,4,4,4,4,4,4,4,4,4,4,4,4,4,4,4,4,4,4,4,4,4,4,4,4,4,4,4,4,4,4,4,4,4,4,4,4,4,4,4,4,4,4,4,4,4,4,4,4,4,4,4,4,4,4,4,4,4,4,4,4,4,4,4,4,4,4,4,4,4,4,4,4,4,4,4,4,4,4,4,4,4,4,4,4,4,4,4,4,4,4,4,4,4,4,4,4,4,4,4,4,4,4,4,4,4,4,4,4,4,4,4,4,4,4,4,4,4,4,4,4,4,4,4,4,4,4,4,4,4,4,4,4,4,4,4,4,4,4,4,4,4,4,4,4,4,4,4,4,4,4,4,4,4,4,4,4,4,4,4,4,4,4,4,4,4,4,4,4,4,4],\"x_values\":[24.0,27.0,26.0,25.0,24.0,25.0,26.0,27.0,28.0,25.0,22.0,23.0,28.0,30.0,30.0,31.0,35.0,27.0,26.0,24.0,25.0,23.0,20.0,21.0,18.0,22.0,21.0,26.0,22.0,28.0,23.0,28.0,27.0,26.0,20.0,21.0,22.0,19.0,26.0,29.0,24.0,20.0,19.0,24.0,31.0,26.0,32.0,25.0,29.0,26.0,26.0,31.0,32.0,28.0,24.0,26.0,24.0,26.0,31.0,29.0,23.0,23.0,24.0,25.0,24.0,29.0,23.0,23.0,22.0,25.0,33.0,28.0,25.0,25.0,26.0,27.0,29.0,24.5,29.0,33.0,29.5,32.0,28.0,26.5,20.0,19.0,31.5,30.0,36.0,25.5,33.5,29.0,24.5,26.0,25.5,30.5,33.5,30.0,30.5,21.5,43.1,36.1,32.8,39.4,36.1,25.1,30.0,27.5,27.2,30.9,21.1,23.2,23.8,23.9,21.6,31.5,29.5,22.3,31.9,34.1,35.7,27.4,27.2,34.2,34.5,31.8,37.3,28.4,33.5,41.5,38.1,32.1,37.2,28.0,26.4,24.3,34.3,29.8,31.3,37.0,32.2,46.6,27.9,40.8,44.3,43.4,30.0,44.6,33.8,29.8,35.0,32.4,27.2,26.6,25.8,30.0,39.1,39.0,35.1,32.3,37.0,37.7,34.1,34.7,34.4,29.9,33.0,33.7,32.4,32.9,31.6,28.1,28.0,27.0,34.0,31.0,29.0,27.0,24.0,36.0,37.0,31.0,38.0,36.0,36.0,36.0,34.0,38.0,32.0,38.0,26.0,32.0,36.0,27.0,27.0,44.0,32.0,28.0,31.0],\"y_values\":[95,88,46,87,90,95,113,88,90,95,72,86,90,70,76,65,69,60,70,95,80,54,90,86,112,76,87,69,86,92,97,80,88,46,88,72,94,85,90,49,75,91,112,110,67,80,65,75,83,67,78,52,61,75,75,75,97,93,67,75,83,78,96,71,97,70,95,88,98,115,53,86,81,92,79,83,52,60,70,53,71,70,75,72,102,88,68,80,58,96,70,78,88,75,89,63,83,67,78,110,48,66,52,70,60,88,68,95,97,75,95,105,85,97,115,71,68,88,71,65,80,80,71,70,70,65,69,90,90,76,60,70,65,90,88,90,78,90,75,92,75,65,105,65,48,48,67,67,67,62,88,72,84,84,92,84,58,64,60,67,65,62,68,63,65,65,74,75,75,100,74,80,88,88,88,85,84,90,92,74,68,68,63,70,88,75,70,67,67,67,92,96,84,90,86,52,84,79,82]}},\"id\":\"dad7ed44-bd1d-4eee-a1f2-8c8e71a31731\",\"type\":\"ColumnDataSource\"},{\"attributes\":{\"overlay\":{\"id\":\"615b85a8-4355-4923-aedf-cdae34995e62\",\"type\":\"BoxAnnotation\"},\"plot\":{\"id\":\"6c9156d6-510a-4a19-a492-ddb220ab0f17\",\"subtype\":\"Chart\",\"type\":\"Plot\"}},\"id\":\"a38e2063-103a-426c-9002-5d4eb8b66306\",\"type\":\"BoxZoomTool\"},{\"attributes\":{\"data_source\":{\"id\":\"0ddf32dc-4099-4233-82d9-2e51d8172886\",\"type\":\"ColumnDataSource\"},\"glyph\":{\"id\":\"1de71a46-8591-42e9-a994-730a211f3f1c\",\"type\":\"Circle\"},\"hover_glyph\":null,\"nonselection_glyph\":null,\"selection_glyph\":null},\"id\":\"aef1d1bc-b5da-4475-a9fa-e4b0708936d5\",\"type\":\"GlyphRenderer\"},{\"attributes\":{\"callback\":null},\"id\":\"0cb1d8f8-6037-450f-966a-8bccbecd79da\",\"type\":\"DataRange1d\"},{\"attributes\":{},\"id\":\"ffb18a0f-784e-45ab-9c30-ff5c9b6551ed\",\"type\":\"BasicTicker\"},{\"attributes\":{\"below\":[{\"id\":\"677434fe-ec1f-48ea-accf-7acc56d5bd66\",\"type\":\"LinearAxis\"}],\"left\":[{\"id\":\"f3a6512c-76d4-45df-a673-4dd2820c968d\",\"type\":\"LinearAxis\"}],\"legend\":\"top_right\",\"renderers\":[{\"id\":\"615b85a8-4355-4923-aedf-cdae34995e62\",\"type\":\"BoxAnnotation\"},{\"id\":\"0622ee56-3bd4-4532-84aa-20010d64adb3\",\"type\":\"GlyphRenderer\"},{\"id\":\"cfd6e71a-d77e-44f9-b2a7-82603d5c4c37\",\"type\":\"GlyphRenderer\"},{\"id\":\"aef1d1bc-b5da-4475-a9fa-e4b0708936d5\",\"type\":\"GlyphRenderer\"},{\"id\":\"1efd8fdf-f780-4680-ab70-b6714a352d47\",\"type\":\"GlyphRenderer\"},{\"id\":\"4acc3034-2633-4767-8e9e-dc9a82a54285\",\"type\":\"GlyphRenderer\"},{\"id\":\"7b250a2d-e9e1-4436-9e04-f1818cd1dc20\",\"type\":\"Legend\"},{\"id\":\"677434fe-ec1f-48ea-accf-7acc56d5bd66\",\"type\":\"LinearAxis\"},{\"id\":\"f3a6512c-76d4-45df-a673-4dd2820c968d\",\"type\":\"LinearAxis\"},{\"id\":\"6912d9a6-4d4b-447b-a395-2277924934ad\",\"type\":\"Grid\"},{\"id\":\"9effaa37-0a63-40d7-beff-bbad9ea751f9\",\"type\":\"Grid\"}],\"title\":\"MPG vs HP (colored by CYL)\",\"title_text_font_size\":{\"value\":\"14pt\"},\"tool_events\":{\"id\":\"0cf0f013-0b90-42ce-94f1-2967c5dda587\",\"type\":\"ToolEvents\"},\"tools\":[{\"id\":\"aa0ef8ae-05c7-4015-9813-7e4fdd35f16f\",\"type\":\"PanTool\"},{\"id\":\"7c8c93df-7f62-4493-9e05-cce31a40f3e2\",\"type\":\"WheelZoomTool\"},{\"id\":\"a38e2063-103a-426c-9002-5d4eb8b66306\",\"type\":\"BoxZoomTool\"},{\"id\":\"c99a400d-ed21-4f65-9da7-4b108531164c\",\"type\":\"PreviewSaveTool\"},{\"id\":\"dbdc01b6-17b9-48b7-913b-b3e792db4971\",\"type\":\"ResizeTool\"},{\"id\":\"f152d42d-8cc3-46f7-aed2-c139c8cddd24\",\"type\":\"ResetTool\"},{\"id\":\"0a3d5de9-5bce-49cb-9cf3-38fd0a994fcf\",\"type\":\"HelpTool\"}],\"x_mapper_type\":\"auto\",\"x_range\":{\"id\":\"67e8e9c9-c04d-4b26-a904-43816d13894c\",\"type\":\"Range1d\"},\"xscale\":\"auto\",\"y_mapper_type\":\"auto\",\"y_range\":{\"id\":\"f84bc78c-880b-405f-b221-4c8fffc09f09\",\"type\":\"Range1d\"},\"yscale\":\"auto\"},\"id\":\"6c9156d6-510a-4a19-a492-ddb220ab0f17\",\"subtype\":\"Chart\",\"type\":\"Plot\"},{\"attributes\":{\"callback\":null,\"column_names\":[\"y\",\"x\"],\"data\":{\"x\":[1,2,3,4,5],\"y\":[6,7,2,4,5]}},\"id\":\"4b0d17c4-b6bf-45fe-8d6e-91d81fb09895\",\"type\":\"ColumnDataSource\"},{\"attributes\":{\"plot\":{\"id\":\"37cf2e8d-087a-4f0c-bab8-a25766aeaf2a\",\"subtype\":\"Figure\",\"type\":\"Plot\"},\"ticker\":{\"id\":\"ffb18a0f-784e-45ab-9c30-ff5c9b6551ed\",\"type\":\"BasicTicker\"}},\"id\":\"f8ed8fa8-3af1-4d3c-a1a2-d3cf35b022dd\",\"type\":\"Grid\"},{\"attributes\":{\"plot\":{\"id\":\"6c9156d6-510a-4a19-a492-ddb220ab0f17\",\"subtype\":\"Chart\",\"type\":\"Plot\"}},\"id\":\"aa0ef8ae-05c7-4015-9813-7e4fdd35f16f\",\"type\":\"PanTool\"},{\"attributes\":{\"plot\":{\"id\":\"6e9e4cae-8738-49e8-a4f0-6b0bbaac59a8\",\"subtype\":\"Figure\",\"type\":\"Plot\"}},\"id\":\"3bed2391-e9bb-42fc-9aad-6a12b4e860d0\",\"type\":\"HelpTool\"},{\"attributes\":{\"plot\":{\"id\":\"6e9e4cae-8738-49e8-a4f0-6b0bbaac59a8\",\"subtype\":\"Figure\",\"type\":\"Plot\"}},\"id\":\"574544d6-71b3-4143-8fcc-c967d8e88006\",\"type\":\"PreviewSaveTool\"},{\"attributes\":{},\"id\":\"8d1aca6a-f624-41eb-90fb-405a03d5074a\",\"type\":\"ToolEvents\"},{\"attributes\":{\"plot\":{\"id\":\"6c9156d6-510a-4a19-a492-ddb220ab0f17\",\"subtype\":\"Chart\",\"type\":\"Plot\"},\"ticker\":{\"id\":\"4149b2a8-8659-4526-b719-803349367b13\",\"type\":\"BasicTicker\"}},\"id\":\"6912d9a6-4d4b-447b-a395-2277924934ad\",\"type\":\"Grid\"},{\"attributes\":{\"plot\":{\"id\":\"c9b376ba-5386-43fc-bcd9-5062c8bf5e55\",\"subtype\":\"Figure\",\"type\":\"Plot\"}},\"id\":\"6f9d1b95-7b1d-49bb-8e51-d035986b1435\",\"type\":\"PreviewSaveTool\"},{\"attributes\":{\"fill_alpha\":{\"value\":0.7},\"fill_color\":{\"value\":\"#df5320\"},\"line_color\":{\"value\":\"#df5320\"},\"size\":{\"units\":\"screen\",\"value\":8},\"x\":{\"field\":\"x_values\"},\"y\":{\"field\":\"y_values\"}},\"id\":\"1de71a46-8591-42e9-a994-730a211f3f1c\",\"type\":\"Circle\"},{\"attributes\":{\"callback\":null,\"column_names\":[\"y_values\",\"x_values\"],\"data\":{\"chart_index\":[{\"cyl\":8},{\"cyl\":8},{\"cyl\":8},{\"cyl\":8},{\"cyl\":8},{\"cyl\":8},{\"cyl\":8},{\"cyl\":8},{\"cyl\":8},{\"cyl\":8},{\"cyl\":8},{\"cyl\":8},{\"cyl\":8},{\"cyl\":8},{\"cyl\":8},{\"cyl\":8},{\"cyl\":8},{\"cyl\":8},{\"cyl\":8},{\"cyl\":8},{\"cyl\":8},{\"cyl\":8},{\"cyl\":8},{\"cyl\":8},{\"cyl\":8},{\"cyl\":8},{\"cyl\":8},{\"cyl\":8},{\"cyl\":8},{\"cyl\":8},{\"cyl\":8},{\"cyl\":8},{\"cyl\":8},{\"cyl\":8},{\"cyl\":8},{\"cyl\":8},{\"cyl\":8},{\"cyl\":8},{\"cyl\":8},{\"cyl\":8},{\"cyl\":8},{\"cyl\":8},{\"cyl\":8},{\"cyl\":8},{\"cyl\":8},{\"cyl\":8},{\"cyl\":8},{\"cyl\":8},{\"cyl\":8},{\"cyl\":8},{\"cyl\":8},{\"cyl\":8},{\"cyl\":8},{\"cyl\":8},{\"cyl\":8},{\"cyl\":8},{\"cyl\":8},{\"cyl\":8},{\"cyl\":8},{\"cyl\":8},{\"cyl\":8},{\"cyl\":8},{\"cyl\":8},{\"cyl\":8},{\"cyl\":8},{\"cyl\":8},{\"cyl\":8},{\"cyl\":8},{\"cyl\":8},{\"cyl\":8},{\"cyl\":8},{\"cyl\":8},{\"cyl\":8},{\"cyl\":8},{\"cyl\":8},{\"cyl\":8},{\"cyl\":8},{\"cyl\":8},{\"cyl\":8},{\"cyl\":8},{\"cyl\":8},{\"cyl\":8},{\"cyl\":8},{\"cyl\":8},{\"cyl\":8},{\"cyl\":8},{\"cyl\":8},{\"cyl\":8},{\"cyl\":8},{\"cyl\":8},{\"cyl\":8},{\"cyl\":8},{\"cyl\":8},{\"cyl\":8},{\"cyl\":8},{\"cyl\":8},{\"cyl\":8},{\"cyl\":8},{\"cyl\":8},{\"cyl\":8},{\"cyl\":8},{\"cyl\":8},{\"cyl\":8}],\"cyl\":[8,8,8,8,8,8,8,8,8,8,8,8,8,8,8,8,8,8,8,8,8,8,8,8,8,8,8,8,8,8,8,8,8,8,8,8,8,8,8,8,8,8,8,8,8,8,8,8,8,8,8,8,8,8,8,8,8,8,8,8,8,8,8,8,8,8,8,8,8,8,8,8,8,8,8,8,8,8,8,8,8,8,8,8,8,8,8,8,8,8,8,8,8,8,8,8,8,8,8,8,8,8,8],\"x_values\":[18.0,15.0,18.0,16.0,17.0,15.0,14.0,14.0,14.0,15.0,15.0,14.0,15.0,14.0,10.0,10.0,11.0,9.0,14.0,14.0,14.0,14.0,12.0,13.0,13.0,13.0,14.0,15.0,14.0,17.0,11.0,13.0,12.0,13.0,15.0,13.0,13.0,14.0,13.0,14.0,13.0,14.0,15.0,12.0,13.0,13.0,14.0,13.0,12.0,13.0,11.0,12.0,13.0,12.0,15.0,16.0,15.0,11.0,16.0,13.0,14.0,14.0,14.0,16.0,15.0,16.0,14.0,20.0,13.0,17.5,16.0,15.5,14.5,13.0,16.5,13.0,13.0,13.0,17.5,17.0,15.5,15.0,16.0,15.5,15.5,16.0,19.9,19.4,20.2,19.2,18.1,17.5,17.0,17.6,16.5,18.2,16.9,15.5,19.2,18.5,23.0,23.9,26.6],\"y_values\":[130,165,150,150,140,198,220,215,225,190,170,160,150,225,215,200,210,193,165,175,153,150,180,170,175,165,175,150,153,150,208,155,160,190,150,130,140,150,175,150,145,137,150,198,150,158,150,215,225,175,150,167,170,180,145,230,150,180,140,150,150,140,150,170,145,150,148,110,129,140,150,120,152,150,180,145,130,150,145,110,145,130,180,170,190,149,110,140,139,145,139,140,130,129,138,135,155,142,125,150,125,90,105]}},\"id\":\"e95ef0ec-16d3-4685-9177-cc679c19af96\",\"type\":\"ColumnDataSource\"},{\"attributes\":{\"callback\":null,\"end\":248.4,\"start\":27.599999999999998},\"id\":\"f84bc78c-880b-405f-b221-4c8fffc09f09\",\"type\":\"Range1d\"},{\"attributes\":{\"plot\":{\"id\":\"c9b376ba-5386-43fc-bcd9-5062c8bf5e55\",\"subtype\":\"Figure\",\"type\":\"Plot\"}},\"id\":\"84b99586-abcb-4439-95f6-d8877124f2c5\",\"type\":\"WheelZoomTool\"},{\"attributes\":{\"fill_alpha\":{\"value\":0.5},\"fill_color\":{\"value\":\"navy\"},\"line_alpha\":{\"value\":0.5},\"line_color\":{\"value\":\"navy\"},\"size\":{\"units\":\"screen\",\"value\":20},\"x\":{\"field\":\"x\"},\"y\":{\"field\":\"y\"}},\"id\":\"2775341b-a91c-471a-a2ee-f49dc60da5e8\",\"type\":\"Circle\"},{\"attributes\":{\"plot\":{\"id\":\"c9b376ba-5386-43fc-bcd9-5062c8bf5e55\",\"subtype\":\"Figure\",\"type\":\"Plot\"}},\"id\":\"23778cc1-79fa-40d4-b6c1-5645c5f0dff3\",\"type\":\"ResizeTool\"},{\"attributes\":{\"callback\":null},\"id\":\"6eb85775-e474-4d0e-8b10-d0564a7673f8\",\"type\":\"DataRange1d\"},{\"attributes\":{},\"id\":\"036a60b2-2e7d-4c4b-ab42-32d3ec86fec2\",\"type\":\"BasicTickFormatter\"},{\"attributes\":{\"plot\":{\"id\":\"6e9e4cae-8738-49e8-a4f0-6b0bbaac59a8\",\"subtype\":\"Figure\",\"type\":\"Plot\"},\"ticker\":{\"id\":\"674a790b-2ee9-4c7e-8238-7d36f908a132\",\"type\":\"BasicTicker\"}},\"id\":\"0b43d09b-6b3b-4c72-95d6-ab5ec74e58ee\",\"type\":\"Grid\"},{\"attributes\":{\"below\":[{\"id\":\"e5c901d6-d43c-4acc-a3ef-c847e4e22bc7\",\"type\":\"LinearAxis\"}],\"left\":[{\"id\":\"bd9bf297-b12b-44f1-ac91-e0519683eee0\",\"type\":\"LinearAxis\"}],\"plot_height\":300,\"plot_width\":300,\"renderers\":[{\"id\":\"e5c901d6-d43c-4acc-a3ef-c847e4e22bc7\",\"type\":\"LinearAxis\"},{\"id\":\"f8ed8fa8-3af1-4d3c-a1a2-d3cf35b022dd\",\"type\":\"Grid\"},{\"id\":\"bd9bf297-b12b-44f1-ac91-e0519683eee0\",\"type\":\"LinearAxis\"},{\"id\":\"1a684048-bf36-422f-a983-737351ee5d0f\",\"type\":\"Grid\"},{\"id\":\"f1290841-9bcb-4814-9850-0bcdbf7532e5\",\"type\":\"GlyphRenderer\"}],\"tool_events\":{\"id\":\"9a377d5c-16e6-4137-a2c1-2ed8f30c5393\",\"type\":\"ToolEvents\"},\"tools\":[{\"id\":\"1f003455-03e9-42c5-ac22-deb178b00beb\",\"type\":\"PanTool\"},{\"id\":\"cde4788a-56f5-4323-9649-aad26bb5a85b\",\"type\":\"ResetTool\"},{\"id\":\"76f535c7-3ba8-4593-a41a-c6c8480476d7\",\"type\":\"PreviewSaveTool\"}],\"x_range\":{\"id\":\"8738de7d-acbc-4016-9820-3f1f214c7f59\",\"type\":\"DataRange1d\"},\"y_range\":{\"id\":\"592fc6b0-8c85-4c86-ac8d-a7cf985ea6e6\",\"type\":\"DataRange1d\"}},\"id\":\"37cf2e8d-087a-4f0c-bab8-a25766aeaf2a\",\"subtype\":\"Figure\",\"type\":\"Plot\"},{\"attributes\":{\"callback\":null,\"column_names\":[\"y_values\",\"x_values\"],\"data\":{\"chart_index\":[{\"cyl\":5},{\"cyl\":5},{\"cyl\":5}],\"cyl\":[5,5,5],\"x_values\":[20.3,25.4,36.4],\"y_values\":[103,77,67]}},\"id\":\"b4596dfa-f45b-409b-8644-61e706f72135\",\"type\":\"ColumnDataSource\"},{\"attributes\":{\"callback\":null,\"column_names\":[\"y\",\"x\"],\"data\":{\"x\":[1,2,3,4,5],\"y\":[6,7,2,4,5]}},\"id\":\"3266d7ff-0c12-48ed-be18-083de78beb0c\",\"type\":\"ColumnDataSource\"},{\"attributes\":{\"data_source\":{\"id\":\"4b0d17c4-b6bf-45fe-8d6e-91d81fb09895\",\"type\":\"ColumnDataSource\"},\"glyph\":{\"id\":\"2775341b-a91c-471a-a2ee-f49dc60da5e8\",\"type\":\"Circle\"},\"hover_glyph\":null,\"nonselection_glyph\":{\"id\":\"8c93d59d-c02b-4ede-a976-886062733418\",\"type\":\"Circle\"},\"selection_glyph\":null},\"id\":\"4999e29b-0fc0-434e-9f17-3bc60f5da156\",\"type\":\"GlyphRenderer\"},{\"attributes\":{\"callback\":null},\"id\":\"8738de7d-acbc-4016-9820-3f1f214c7f59\",\"type\":\"DataRange1d\"},{\"attributes\":{\"formatter\":{\"id\":\"036a60b2-2e7d-4c4b-ab42-32d3ec86fec2\",\"type\":\"BasicTickFormatter\"},\"plot\":{\"id\":\"c9b376ba-5386-43fc-bcd9-5062c8bf5e55\",\"subtype\":\"Figure\",\"type\":\"Plot\"},\"ticker\":{\"id\":\"3ad57d64-2f9a-4230-b9a9-7c82ae061340\",\"type\":\"BasicTicker\"}},\"id\":\"0cda9594-0e1b-4b46-bbaf-255489dce1c1\",\"type\":\"LinearAxis\"},{\"attributes\":{},\"id\":\"31aabf35-72bc-462d-a026-0d6973f9786f\",\"type\":\"BasicTickFormatter\"},{\"attributes\":{},\"id\":\"ecb09f7b-5215-4a36-90dd-8311aa5d5ecd\",\"type\":\"BasicTickFormatter\"},{\"attributes\":{\"dimension\":1,\"plot\":{\"id\":\"37cf2e8d-087a-4f0c-bab8-a25766aeaf2a\",\"subtype\":\"Figure\",\"type\":\"Plot\"},\"ticker\":{\"id\":\"b96f8a9d-0995-4ac9-95ac-e7a584303e15\",\"type\":\"BasicTicker\"}},\"id\":\"1a684048-bf36-422f-a983-737351ee5d0f\",\"type\":\"Grid\"},{\"attributes\":{\"callback\":null},\"id\":\"592fc6b0-8c85-4c86-ac8d-a7cf985ea6e6\",\"type\":\"DataRange1d\"},{\"attributes\":{\"callback\":null,\"column_names\":[\"y\",\"x\"],\"data\":{\"x\":[1.0,2.5,3.0,2.0],\"y\":[2.0,3.0,1.0,1.5]}},\"id\":\"f10f3f4c-00da-4fb1-949f-79f98f294227\",\"type\":\"ColumnDataSource\"},{\"attributes\":{\"data_source\":{\"id\":\"ea811e38-d2f6-4bfe-a88a-6257611a6f16\",\"type\":\"ColumnDataSource\"},\"glyph\":{\"id\":\"150eca09-4532-4f86-838c-081a2e34ef92\",\"type\":\"Circle\"},\"hover_glyph\":null,\"nonselection_glyph\":null,\"selection_glyph\":null},\"id\":\"1efd8fdf-f780-4680-ab70-b6714a352d47\",\"type\":\"GlyphRenderer\"},{\"attributes\":{},\"id\":\"0cf0f013-0b90-42ce-94f1-2967c5dda587\",\"type\":\"ToolEvents\"},{\"attributes\":{\"axis_label\":\"Horsepower\",\"formatter\":{\"id\":\"ecb09f7b-5215-4a36-90dd-8311aa5d5ecd\",\"type\":\"BasicTickFormatter\"},\"plot\":{\"id\":\"6c9156d6-510a-4a19-a492-ddb220ab0f17\",\"subtype\":\"Chart\",\"type\":\"Plot\"},\"ticker\":{\"id\":\"a8ef711e-d93a-41b0-88e1-174b58863573\",\"type\":\"BasicTicker\"}},\"id\":\"f3a6512c-76d4-45df-a673-4dd2820c968d\",\"type\":\"LinearAxis\"},{\"attributes\":{\"fill_alpha\":{\"value\":0.7},\"fill_color\":{\"value\":\"#407ee7\"},\"line_color\":{\"value\":\"#407ee7\"},\"size\":{\"units\":\"screen\",\"value\":8},\"x\":{\"field\":\"x_values\"},\"y\":{\"field\":\"y_values\"}},\"id\":\"f7c4f588-0377-4130-bf0e-3061609234e1\",\"type\":\"Circle\"},{\"attributes\":{\"plot\":{\"id\":\"6e9e4cae-8738-49e8-a4f0-6b0bbaac59a8\",\"subtype\":\"Figure\",\"type\":\"Plot\"}},\"id\":\"58d577e6-7f80-4c85-bc66-199ff6c984a2\",\"type\":\"ResizeTool\"},{\"attributes\":{\"plot\":{\"id\":\"6e9e4cae-8738-49e8-a4f0-6b0bbaac59a8\",\"subtype\":\"Figure\",\"type\":\"Plot\"}},\"id\":\"fbf5b1aa-369f-4006-9145-04e64863ecf3\",\"type\":\"ResetTool\"},{\"attributes\":{\"fill_alpha\":{\"value\":0.1},\"fill_color\":{\"value\":\"#1f77b4\"},\"line_alpha\":{\"value\":0.1},\"line_color\":{\"value\":\"#1f77b4\"},\"radius\":{\"units\":\"data\",\"value\":0.3},\"x\":{\"field\":\"x\"},\"y\":{\"field\":\"y\"}},\"id\":\"a6ddc101-b320-41ca-aba3-409f2da4946b\",\"type\":\"Circle\"},{\"attributes\":{\"fill_alpha\":{\"value\":0.1},\"fill_color\":{\"value\":\"#1f77b4\"},\"line_alpha\":{\"value\":0.1},\"line_color\":{\"value\":\"#1f77b4\"},\"size\":{\"units\":\"screen\",\"value\":20},\"x\":{\"field\":\"x\"},\"y\":{\"field\":\"y\"}},\"id\":\"8c93d59d-c02b-4ede-a976-886062733418\",\"type\":\"Circle\"},{\"attributes\":{\"formatter\":{\"id\":\"f1baefa9-a68d-483c-bbf2-fd57407f4756\",\"type\":\"BasicTickFormatter\"},\"plot\":{\"id\":\"6e9e4cae-8738-49e8-a4f0-6b0bbaac59a8\",\"subtype\":\"Figure\",\"type\":\"Plot\"},\"ticker\":{\"id\":\"674a790b-2ee9-4c7e-8238-7d36f908a132\",\"type\":\"BasicTicker\"}},\"id\":\"09001ee4-81c3-423f-a5be-b960888288cd\",\"type\":\"LinearAxis\"},{\"attributes\":{},\"id\":\"4149b2a8-8659-4526-b719-803349367b13\",\"type\":\"BasicTicker\"},{\"attributes\":{},\"id\":\"f1baefa9-a68d-483c-bbf2-fd57407f4756\",\"type\":\"BasicTickFormatter\"},{\"attributes\":{\"plot\":{\"id\":\"6e9e4cae-8738-49e8-a4f0-6b0bbaac59a8\",\"subtype\":\"Figure\",\"type\":\"Plot\"}},\"id\":\"6ee8bc77-7790-4b62-ab4c-fa1757e84afc\",\"type\":\"PanTool\"},{\"attributes\":{},\"id\":\"d3d9b3cc-c60c-4de1-95b1-dd22124f289a\",\"type\":\"BasicTickFormatter\"},{\"attributes\":{\"plot\":{\"id\":\"6e9e4cae-8738-49e8-a4f0-6b0bbaac59a8\",\"subtype\":\"Figure\",\"type\":\"Plot\"}},\"id\":\"ace94967-efe9-46d1-9fe2-2b01708f0222\",\"type\":\"WheelZoomTool\"},{\"attributes\":{\"below\":[{\"id\":\"09001ee4-81c3-423f-a5be-b960888288cd\",\"type\":\"LinearAxis\"}],\"left\":[{\"id\":\"46c16c10-93eb-4b3b-8699-444732237021\",\"type\":\"LinearAxis\"}],\"renderers\":[{\"id\":\"09001ee4-81c3-423f-a5be-b960888288cd\",\"type\":\"LinearAxis\"},{\"id\":\"0b43d09b-6b3b-4c72-95d6-ab5ec74e58ee\",\"type\":\"Grid\"},{\"id\":\"46c16c10-93eb-4b3b-8699-444732237021\",\"type\":\"LinearAxis\"},{\"id\":\"e01dbc9b-0f45-46c6-be2e-349cfa9639f0\",\"type\":\"Grid\"},{\"id\":\"41acd8ef-d9ce-40f5-9a18-ebe98de9b109\",\"type\":\"BoxAnnotation\"},{\"id\":\"7e4c198d-f1e7-4743-8751-0e8b09653a46\",\"type\":\"GlyphRenderer\"}],\"tool_events\":{\"id\":\"8d1aca6a-f624-41eb-90fb-405a03d5074a\",\"type\":\"ToolEvents\"},\"tools\":[{\"id\":\"6ee8bc77-7790-4b62-ab4c-fa1757e84afc\",\"type\":\"PanTool\"},{\"id\":\"ace94967-efe9-46d1-9fe2-2b01708f0222\",\"type\":\"WheelZoomTool\"},{\"id\":\"771be298-9f5f-4c7d-bb94-06c8e5d6acf6\",\"type\":\"BoxZoomTool\"},{\"id\":\"574544d6-71b3-4143-8fcc-c967d8e88006\",\"type\":\"PreviewSaveTool\"},{\"id\":\"58d577e6-7f80-4c85-bc66-199ff6c984a2\",\"type\":\"ResizeTool\"},{\"id\":\"fbf5b1aa-369f-4006-9145-04e64863ecf3\",\"type\":\"ResetTool\"},{\"id\":\"3bed2391-e9bb-42fc-9aad-6a12b4e860d0\",\"type\":\"HelpTool\"}],\"x_range\":{\"id\":\"6eb85775-e474-4d0e-8b10-d0564a7673f8\",\"type\":\"DataRange1d\"},\"y_range\":{\"id\":\"0bbf135d-610d-401a-ba2e-8e110bc5febc\",\"type\":\"DataRange1d\"}},\"id\":\"6e9e4cae-8738-49e8-a4f0-6b0bbaac59a8\",\"subtype\":\"Figure\",\"type\":\"Plot\"}],\"root_ids\":[\"6e9e4cae-8738-49e8-a4f0-6b0bbaac59a8\",\"37cf2e8d-087a-4f0c-bab8-a25766aeaf2a\",\"6c9156d6-510a-4a19-a492-ddb220ab0f17\",\"c9b376ba-5386-43fc-bcd9-5062c8bf5e55\"]},\"title\":\"Bokeh Application\",\"version\":\"0.11.1\"}};\n",
       "            var render_items = [{\"docid\":\"b83b5628-3dac-442f-81bf-17658a9a0005\",\"elementid\":\"b159f309-0d5b-4899-8275-7c731c290831\",\"modelid\":\"c9b376ba-5386-43fc-bcd9-5062c8bf5e55\",\"notebook_comms_target\":\"515e261b-fe21-45a0-984a-f9c92c829768\"}];\n",
       "            \n",
       "            Bokeh.embed.embed_items(docs_json, render_items);\n",
       "        });\n",
       "      },\n",
       "      function(Bokeh) {\n",
       "      }\n",
       "    ];\n",
       "  \n",
       "    function run_inline_js() {\n",
       "      for (var i = 0; i < inline_js.length; i++) {\n",
       "        inline_js[i](window.Bokeh);\n",
       "      }\n",
       "    }\n",
       "  \n",
       "    if (window._bokeh_is_loading === 0) {\n",
       "      console.log(\"Bokeh: BokehJS loaded, going straight to plotting\");\n",
       "      run_inline_js();\n",
       "    } else {\n",
       "      load_libs(js_urls, function() {\n",
       "        console.log(\"Bokeh: BokehJS plotting callback run at\", now());\n",
       "        run_inline_js();\n",
       "      });\n",
       "    }\n",
       "  }(this));\n",
       "</script>"
      ]
     },
     "metadata": {},
     "output_type": "display_data"
    },
    {
     "data": {
      "text/html": [
       "<p><code>&lt;Bokeh Notebook handle for <strong>In[11]</strong>&gt;</code></p>"
      ],
      "text/plain": [
       "<bokeh.io._CommsHandle at 0x7f8b9b2fec18>"
      ]
     },
     "execution_count": 11,
     "metadata": {},
     "output_type": "execute_result"
    }
   ],
   "source": [
    "from bokeh.plotting import figure, output_file, show\n",
    "\n",
    "# output to static HTML file\n",
    "# output_file(\"line.html\")\n",
    "\n",
    "p = figure(plot_width=400, plot_height=400)\n",
    "\n",
    "# add a circle renderer with a size, color, and alpha\n",
    "p.circle([1, 2, 3, 4, 5], [6, 7, 2, 4, 5], size=20, color=\"navy\", alpha=0.5)\n",
    "\n",
    "# show the results\n",
    "show(p)\n"
   ]
  },
  {
   "cell_type": "code",
   "execution_count": 12,
   "metadata": {
    "collapsed": true
   },
   "outputs": [],
   "source": [
    "import numpy as np\n",
    "\n",
    "import pandas as pd\n",
    "from pandas import Series, DataFrame"
   ]
  },
  {
   "cell_type": "code",
   "execution_count": 15,
   "metadata": {
    "collapsed": false
   },
   "outputs": [
    {
     "data": {
      "text/plain": [
       "array([   3.        ,    4.10803324,    7.43213296,   12.97229917,\n",
       "         20.72853186,   30.70083102,   42.88919668,   57.29362881,\n",
       "         73.91412742,   92.75069252,  113.8033241 ,  137.07202216,\n",
       "        162.5567867 ,  190.25761773,  220.17451524,  252.30747922,\n",
       "        286.6565097 ,  323.22160665,  362.00277008,  403.        ])"
      ]
     },
     "execution_count": 15,
     "metadata": {},
     "output_type": "execute_result"
    }
   ],
   "source": [
    "y"
   ]
  },
  {
   "cell_type": "code",
   "execution_count": 20,
   "metadata": {
    "collapsed": false
   },
   "outputs": [
    {
     "name": "stdout",
     "output_type": "stream",
     "text": [
      "Object `color` not found.\n"
     ]
    }
   ],
   "source": [
    "import pandas as pd\n",
    "from bokeh.plotting import figure, output_file, show\n",
    "\n",
    "AAPL = pd.read_csv(\n",
    "        \"http://ichart.yahoo.com/table.csv?s=AAPL&a=0&b=1&c=2000&d=0&e=1&f=2010\",\n",
    "        parse_dates=['Date']\n",
    "    )\n",
    "\n",
    "# output_file(\"datetime.html\")\n",
    "\n",
    "# create a new plot with a datetime axis type\n",
    "p = figure(width=800, height=250, x_axis_type=\"datetime\")\n"
   ]
  },
  {
   "cell_type": "code",
   "execution_count": null,
   "metadata": {
    "collapsed": true
   },
   "outputs": [],
   "source": [
    "p.line(AAPL['Date'], AAPL['Close'], color"
   ]
  },
  {
   "cell_type": "code",
   "execution_count": null,
   "metadata": {
    "collapsed": true
   },
   "outputs": [],
   "source": []
  }
 ],
 "metadata": {
  "kernelspec": {
   "display_name": "Python 3",
   "language": "python",
   "name": "python3"
  },
  "language_info": {
   "codemirror_mode": {
    "name": "ipython",
    "version": 3
   },
   "file_extension": ".py",
   "mimetype": "text/x-python",
   "name": "python",
   "nbconvert_exporter": "python",
   "pygments_lexer": "ipython3",
   "version": "3.5.1"
  }
 },
 "nbformat": 4,
 "nbformat_minor": 0
}
